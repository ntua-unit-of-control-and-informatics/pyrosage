{
 "cells": [
  {
   "cell_type": "code",
   "id": "initial_id",
   "metadata": {
    "collapsed": true,
    "ExecuteTime": {
     "end_time": "2025-05-22T11:00:04.840465Z",
     "start_time": "2025-05-22T11:00:02.727224Z"
    }
   },
   "source": [
    "from tdc.single_pred import Tox\n",
    "data = Tox(name = 'LD50_Zhu')\n",
    "df = data.get_data()\n"
   ],
   "outputs": [
    {
     "name": "stderr",
     "output_type": "stream",
     "text": [
      "Downloading...\n",
      "100%|██████████| 707k/707k [00:00<00:00, 1.25MiB/s]\n",
      "Loading...\n",
      "Done!\n"
     ]
    }
   ],
   "execution_count": 12
  },
  {
   "metadata": {
    "ExecuteTime": {
     "end_time": "2025-05-22T11:00:57.803204Z",
     "start_time": "2025-05-22T11:00:57.783278Z"
    }
   },
   "cell_type": "code",
   "source": [
    "# Rename columns\n",
    "df = df.rename(columns={\n",
    "    \"Drug\": \"smiles\",\n",
    "    \"Y\": \"active\"\n",
    "})\n",
    "\n",
    "# Drop the original index column if it's unnamed (first unnamed column)\n",
    "if df.columns[0] == \"\":\n",
    "    df = df.drop(columns=df.columns[0])\n",
    "\n",
    "# Add a new 1-based index\n",
    "df.index = range(1, len(df) + 1)\n",
    "df.reset_index(inplace=True)\n",
    "df = df[[\"index\", \"smiles\", \"active\"]]\n",
    "\n",
    "# Save to CSV\n",
    "df.to_csv('../../data/LD50_Zhu.csv', index=False)\n"
   ],
   "id": "3e62e6061c68bc61",
   "outputs": [],
   "execution_count": 16
  }
 ],
 "metadata": {
  "kernelspec": {
   "display_name": "Python 3",
   "language": "python",
   "name": "python3"
  },
  "language_info": {
   "codemirror_mode": {
    "name": "ipython",
    "version": 2
   },
   "file_extension": ".py",
   "mimetype": "text/x-python",
   "name": "python",
   "nbconvert_exporter": "python",
   "pygments_lexer": "ipython2",
   "version": "2.7.6"
  }
 },
 "nbformat": 4,
 "nbformat_minor": 5
}
