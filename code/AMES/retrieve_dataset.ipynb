{
 "cells": [
  {
   "cell_type": "code",
   "id": "initial_id",
   "metadata": {
    "collapsed": true,
    "ExecuteTime": {
     "end_time": "2025-05-26T08:34:02.884841Z",
     "start_time": "2025-05-26T08:33:58.484913Z"
    }
   },
   "source": [
    "from tdc.single_pred import Tox\n",
    "data = Tox(name = 'AMES')\n",
    "df = data.get_data()\n",
    "print(df.head())\n"
   ],
   "outputs": [
    {
     "name": "stderr",
     "output_type": "stream",
     "text": [
      "Downloading...\n",
      "100%|██████████| 344k/344k [00:00<00:00, 943kiB/s] \n",
      "Loading...\n",
      "Done!\n"
     ]
    },
    {
     "name": "stdout",
     "output_type": "stream",
     "text": [
      "  Drug_ID                                               Drug  Y\n",
      "0  Drug 0  O=[N+]([O-])c1ccc2ccc3ccc([N+](=O)[O-])c4c5ccc...  1\n",
      "1  Drug 1       O=[N+]([O-])c1c2c(c3ccc4cccc5ccc1c3c45)CCCC2  1\n",
      "2  Drug 2  O=c1c2ccccc2c(=O)c2c1ccc1c2[nH]c2c3c(=O)c4cccc...  0\n",
      "3  Drug 3                          [N-]=[N+]=CC(=O)NCC(=O)NN  1\n",
      "4  Drug 4                          [N-]=[N+]=C1C=NC(=O)NC1=O  1\n"
     ]
    }
   ],
   "execution_count": 1
  },
  {
   "metadata": {
    "ExecuteTime": {
     "end_time": "2025-05-26T08:35:36.605860Z",
     "start_time": "2025-05-26T08:35:36.592966Z"
    }
   },
   "cell_type": "code",
   "source": [
    "# Rename columns\n",
    "df = df.rename(columns={\n",
    "    \"Drug\": \"smiles\",\n",
    "    \"Y\": \"active\"\n",
    "})\n",
    "\n",
    "# Drop the original index column if it's unnamed (first unnamed column)\n",
    "if df.columns[0] == \"\":\n",
    "    df = df.drop(columns=df.columns[0])\n",
    "\n",
    "# Add a new 1-based index\n",
    "df.index = range(1, len(df) + 1)\n",
    "df.reset_index(inplace=True)\n",
    "df = df[[\"index\", \"smiles\", \"active\"]]\n",
    "\n",
    "# Save to CSV\n",
    "df.to_csv('../../data/AMES.csv', index=False)\n"
   ],
   "id": "3e62e6061c68bc61",
   "outputs": [],
   "execution_count": 3
  },
  {
   "metadata": {},
   "cell_type": "code",
   "outputs": [],
   "execution_count": null,
   "source": "",
   "id": "9a498d889b74e528"
  }
 ],
 "metadata": {
  "kernelspec": {
   "display_name": "Python 3",
   "language": "python",
   "name": "python3"
  },
  "language_info": {
   "codemirror_mode": {
    "name": "ipython",
    "version": 2
   },
   "file_extension": ".py",
   "mimetype": "text/x-python",
   "name": "python",
   "nbconvert_exporter": "python",
   "pygments_lexer": "ipython2",
   "version": "2.7.6"
  }
 },
 "nbformat": 4,
 "nbformat_minor": 5
}
