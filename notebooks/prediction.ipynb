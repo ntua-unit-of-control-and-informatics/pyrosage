{
 "cells": [
  {
   "cell_type": "code",
   "metadata": {
    "ExecuteTime": {
     "end_time": "2025-05-21T11:49:52.692188Z",
     "start_time": "2025-05-21T11:49:52.682243Z"
    }
   },
   "source": [
    "import os\n",
    "import pickle\n",
    "import torch\n",
    "from rdkit import Chem\n",
    "import pandas as pd\n",
    "import numpy as np\n",
    "torch.set_default_tensor_type('torch.cuda.FloatTensor')\n",
    "from AttentiveFP import save_smiles_dicts, get_smiles_array"
   ],
   "outputs": [],
   "execution_count": 22
  },
  {
   "cell_type": "code",
   "metadata": {
    "ExecuteTime": {
     "end_time": "2025-05-21T11:49:52.744648Z",
     "start_time": "2025-05-21T11:49:52.739209Z"
    }
   },
   "source": [
    "model_details_df = pd.read_csv('../data/model_details.csv', index_col= 'index')\n",
    "raw_filename = \"../data/dataset.csv\"\n",
    "device = torch.device(\"cuda\" if torch.cuda.is_available() else \"cpu\")"
   ],
   "outputs": [],
   "execution_count": 23
  },
  {
   "cell_type": "code",
   "metadata": {
    "ExecuteTime": {
     "end_time": "2025-05-21T11:49:52.894949Z",
     "start_time": "2025-05-21T11:49:52.825128Z"
    }
   },
   "source": [
    "for best_name in model_details_df.index:\n",
    "\n",
    "    batch_size = 128\n",
    "    fingerprint_dim = model_details_df['fingerprint_dim']['{}'.format(best_name)]\n",
    "    radius = model_details_df['radius']['{}'.format(best_name)]\n",
    "    T = model_details_df['T']['{}'.format(best_name)]\n",
    "    model_path = model_details_df['model_path']['{}'.format(best_name)]\n",
    "    model = torch.load(model_details_df['model_path']['{}'.format(best_name)], weights_only=False, map_location=device )\n",
    "    output_units_num = 1\n",
    "\n",
    "    feature_filename = raw_filename.replace('.csv','.pickle')\n",
    "    filename = raw_filename.replace('.csv','')\n",
    "    smiles_tasks_df = pd.read_csv(raw_filename)\n",
    "    smilesList = smiles_tasks_df.smiles.values\n",
    "    print(\"number of all smiles: \",len(smilesList))\n",
    "    atom_num_dist = []\n",
    "    remained_smiles = []\n",
    "    canonical_smiles_list = []\n",
    "    for smiles in smilesList:\n",
    "        try:        \n",
    "            mol = Chem.MolFromSmiles(smiles)\n",
    "            atom_num_dist.append(len(mol.GetAtoms()))\n",
    "            remained_smiles.append(smiles)\n",
    "            canonical_smiles_list.append(Chem.MolToSmiles(Chem.MolFromSmiles(smiles), isomericSmiles=True))\n",
    "        except:\n",
    "            print(smiles)\n",
    "            pass\n",
    "    print(\"number of successfully processed smiles: \", len(remained_smiles))\n",
    "    smiles_tasks_df = smiles_tasks_df[smiles_tasks_df[\"smiles\"].isin(remained_smiles)]\n",
    "    smiles_tasks_df['cano_smiles'] =canonical_smiles_list\n",
    "    assert canonical_smiles_list[8]==Chem.MolToSmiles(Chem.MolFromSmiles(smiles_tasks_df['cano_smiles'][8]), isomericSmiles=True)\n",
    "    smilesList = [smiles for smiles in canonical_smiles_list]\n",
    "\n",
    "    if os.path.isfile(feature_filename):\n",
    "        feature_dicts = pickle.load(open(feature_filename, \"rb\" ))\n",
    "    else:\n",
    "        feature_dicts = save_smiles_dicts(smilesList,filename)\n",
    "    remained_df = smiles_tasks_df[smiles_tasks_df[\"cano_smiles\"].isin(feature_dicts['smiles_to_atom_mask'].keys())]\n",
    "\n",
    "    model.eval()\n",
    "    preList = np.arange(0,remained_df.shape[0])\n",
    "    batch_list = []\n",
    "    y_pred_label=[]\n",
    "    for i in range(0, remained_df.shape[0], batch_size):\n",
    "        batch = preList[i:i+batch_size]\n",
    "        batch_list.append(batch) \n",
    "    for counter, pre_batch in enumerate(batch_list):\n",
    "        batch_df = remained_df.loc[pre_batch,:]\n",
    "        smiles_list = batch_df.cano_smiles.values\n",
    "        \n",
    "        x_atom, x_bonds, x_atom_index, x_bond_index, x_mask, smiles_to_rdkit_list = get_smiles_array(smiles_list,feature_dicts)\n",
    "        atoms_prediction, mol_prediction, _ = model(torch.Tensor(x_atom),torch.Tensor(x_bonds),torch.cuda.LongTensor(x_atom_index),torch.cuda.LongTensor(x_bond_index),torch.Tensor(x_mask))\n",
    "        \n",
    "        mol_prediction_np = mol_prediction.cpu()\n",
    "        y_pred_label.append(mol_prediction_np.detach().numpy())\n",
    "    y_pred_label_list = [i[0] for item in y_pred_label for i in item]\n",
    "    remained_df['y_pred_label'] = y_pred_label_list\n",
    "    remained_df.to_csv(\"../results/labeled_{}.csv\".format(best_name),mode = 'a',index =False)"
   ],
   "outputs": [
    {
     "name": "stdout",
     "output_type": "stream",
     "text": [
      "number of all smiles:  11\n",
      "invalid_SMILES_example\n",
      "number of successfully processed smiles:  10\n"
     ]
    },
    {
     "name": "stderr",
     "output_type": "stream",
     "text": [
      "[14:49:52] SMILES Parse Error: syntax error while parsing: invalid_SMILES_example\n",
      "[14:49:52] SMILES Parse Error: check for mistakes around position 1:\n",
      "[14:49:52] invalid_SMILES_example\n",
      "[14:49:52] ^\n",
      "[14:49:52] SMILES Parse Error: Failed parsing SMILES 'invalid_SMILES_example' for input: 'invalid_SMILES_example'\n"
     ]
    },
    {
     "ename": "RuntimeError",
     "evalue": "Found no NVIDIA driver on your system. Please check that you have an NVIDIA GPU and installed a driver from http://www.nvidia.com/Download/index.aspx",
     "output_type": "error",
     "traceback": [
      "\u001B[0;31m---------------------------------------------------------------------------\u001B[0m",
      "\u001B[0;31mRuntimeError\u001B[0m                              Traceback (most recent call last)",
      "Cell \u001B[0;32mIn[24], line 52\u001B[0m\n\u001B[1;32m     49\u001B[0m smiles_list \u001B[38;5;241m=\u001B[39m batch_df\u001B[38;5;241m.\u001B[39mcano_smiles\u001B[38;5;241m.\u001B[39mvalues\n\u001B[1;32m     51\u001B[0m x_atom, x_bonds, x_atom_index, x_bond_index, x_mask, smiles_to_rdkit_list \u001B[38;5;241m=\u001B[39m get_smiles_array(smiles_list,feature_dicts)\n\u001B[0;32m---> 52\u001B[0m atoms_prediction, mol_prediction, _ \u001B[38;5;241m=\u001B[39m model(\u001B[43mtorch\u001B[49m\u001B[38;5;241;43m.\u001B[39;49m\u001B[43mTensor\u001B[49m\u001B[43m(\u001B[49m\u001B[43mx_atom\u001B[49m\u001B[43m)\u001B[49m,torch\u001B[38;5;241m.\u001B[39mTensor(x_bonds),device\u001B[38;5;241m.\u001B[39mLongTensor(x_atom_index),device\u001B[38;5;241m.\u001B[39mLongTensor(x_bond_index),torch\u001B[38;5;241m.\u001B[39mTensor(x_mask))\n\u001B[1;32m     54\u001B[0m mol_prediction_np \u001B[38;5;241m=\u001B[39m mol_prediction\u001B[38;5;241m.\u001B[39mcpu()\n\u001B[1;32m     55\u001B[0m y_pred_label\u001B[38;5;241m.\u001B[39mappend(mol_prediction_np\u001B[38;5;241m.\u001B[39mdetach()\u001B[38;5;241m.\u001B[39mnumpy())\n",
      "File \u001B[0;32m~/Projects/ntua/pyrosage/.venv/lib/python3.10/site-packages/torch/cuda/__init__.py:372\u001B[0m, in \u001B[0;36m_lazy_init\u001B[0;34m()\u001B[0m\n\u001B[1;32m    370\u001B[0m \u001B[38;5;28;01mif\u001B[39;00m \u001B[38;5;124m\"\u001B[39m\u001B[38;5;124mCUDA_MODULE_LOADING\u001B[39m\u001B[38;5;124m\"\u001B[39m \u001B[38;5;129;01mnot\u001B[39;00m \u001B[38;5;129;01min\u001B[39;00m os\u001B[38;5;241m.\u001B[39menviron:\n\u001B[1;32m    371\u001B[0m     os\u001B[38;5;241m.\u001B[39menviron[\u001B[38;5;124m\"\u001B[39m\u001B[38;5;124mCUDA_MODULE_LOADING\u001B[39m\u001B[38;5;124m\"\u001B[39m] \u001B[38;5;241m=\u001B[39m \u001B[38;5;124m\"\u001B[39m\u001B[38;5;124mLAZY\u001B[39m\u001B[38;5;124m\"\u001B[39m\n\u001B[0;32m--> 372\u001B[0m \u001B[43mtorch\u001B[49m\u001B[38;5;241;43m.\u001B[39;49m\u001B[43m_C\u001B[49m\u001B[38;5;241;43m.\u001B[39;49m\u001B[43m_cuda_init\u001B[49m\u001B[43m(\u001B[49m\u001B[43m)\u001B[49m\n\u001B[1;32m    373\u001B[0m \u001B[38;5;66;03m# Some of the queued calls may reentrantly call _lazy_init();\u001B[39;00m\n\u001B[1;32m    374\u001B[0m \u001B[38;5;66;03m# we need to just return without initializing in that case.\u001B[39;00m\n\u001B[1;32m    375\u001B[0m \u001B[38;5;66;03m# However, we must not let any *other* threads in!\u001B[39;00m\n\u001B[1;32m    376\u001B[0m _tls\u001B[38;5;241m.\u001B[39mis_initializing \u001B[38;5;241m=\u001B[39m \u001B[38;5;28;01mTrue\u001B[39;00m\n",
      "\u001B[0;31mRuntimeError\u001B[0m: Found no NVIDIA driver on your system. Please check that you have an NVIDIA GPU and installed a driver from http://www.nvidia.com/Download/index.aspx"
     ]
    }
   ],
   "execution_count": 24
  }
 ],
 "metadata": {
  "kernelspec": {
   "display_name": "pyg",
   "language": "python",
   "name": "python3"
  },
  "language_info": {
   "codemirror_mode": {
    "name": "ipython",
    "version": 3
   },
   "file_extension": ".py",
   "mimetype": "text/x-python",
   "name": "python",
   "nbconvert_exporter": "python",
   "pygments_lexer": "ipython3",
   "version": "3.7.11"
  },
  "orig_nbformat": 4,
  "vscode": {
   "interpreter": {
    "hash": "e7cd4ab3795b19bcaabc245b3de58fc014c4a91b397e1a8c471ec940ed1b3eb0"
   }
  }
 },
 "nbformat": 4,
 "nbformat_minor": 2
}
