{
 "cells": [
  {
   "metadata": {},
   "cell_type": "markdown",
   "source": [
    "# Molecular Property Prediction with AttentiveFP\n",
    "Using PyTorch Geometric's implementation of AttentiveFP for molecular property prediction.\n"
   ],
   "id": "a48aee0a3eac9226"
  },
  {
   "metadata": {
    "ExecuteTime": {
     "end_time": "2025-05-28T07:40:42.492922Z",
     "start_time": "2025-05-28T07:40:42.483576Z"
    }
   },
   "cell_type": "code",
   "source": [
    "import torch\n",
    "import torch.nn as nn\n",
    "import torch.optim as optim\n",
    "from torch_geometric.data import Data, Dataset\n",
    "from torch_geometric.loader import DataLoader\n",
    "from torch_geometric.nn import AttentiveFP\n",
    "import pandas as pd\n",
    "import numpy as np\n",
    "from rdkit import Chem\n",
    "from rdkit.Chem import AllChem\n",
    "from sklearn.model_selection import train_test_split\n",
    "from sklearn.metrics import accuracy_score, precision_score, recall_score, f1_score, roc_auc_score\n",
    "import matplotlib.pyplot as plt\n",
    "import seaborn as sns\n"
   ],
   "id": "8eff724e3d8e3d71",
   "outputs": [],
   "execution_count": 8
  },
  {
   "metadata": {},
   "cell_type": "markdown",
   "source": [
    "# Data Preparation\n",
    "Create a PyTorch Geometric dataset from SMILES strings.\n"
   ],
   "id": "814dc7e3807c0b66"
  },
  {
   "metadata": {
    "ExecuteTime": {
     "end_time": "2025-05-28T07:40:42.566675Z",
     "start_time": "2025-05-28T07:40:42.555129Z"
    }
   },
   "cell_type": "code",
   "source": [
    "class MoleculeDataset(Dataset):\n",
    "    def __init__(self, df, smiles_col='smiles', target_col='active'):\n",
    "        super().__init__()\n",
    "        self.df = df\n",
    "        self.smiles_col = smiles_col\n",
    "        self.target_col = target_col\n",
    "        self.data_list = self._prepare_data()\n",
    "        \n",
    "    def _prepare_data(self):\n",
    "        data_list = []\n",
    "        for idx, row in self.df.iterrows():\n",
    "            mol = Chem.MolFromSmiles(row[self.smiles_col])\n",
    "            if mol is None:\n",
    "                continue\n",
    "                \n",
    "            # Get node features\n",
    "            num_atoms = mol.GetNumAtoms()\n",
    "            atom_features = []\n",
    "            for atom in mol.GetAtoms():\n",
    "                atom_features.append([\n",
    "                    atom.GetAtomicNum(),\n",
    "                    atom.GetDegree(),\n",
    "                    atom.GetFormalCharge(),\n",
    "                    atom.GetNumRadicalElectrons(),\n",
    "                    atom.GetHybridization(),\n",
    "                    atom.GetIsAromatic(),\n",
    "                    atom.GetTotalNumHs()\n",
    "                ])\n",
    "            x = torch.tensor(atom_features, dtype=torch.float)\n",
    "            \n",
    "            # Get edge indices and features\n",
    "            edges_list = []\n",
    "            edge_features = []\n",
    "            for bond in mol.GetBonds():\n",
    "                i = bond.GetBeginAtomIdx()\n",
    "                j = bond.GetEndAtomIdx()\n",
    "                edges_list.extend([[i, j], [j, i]])\n",
    "                \n",
    "                # Bond features\n",
    "                bond_type = bond.GetBondType()\n",
    "                features = [\n",
    "                    bond_type == Chem.rdchem.BondType.SINGLE,\n",
    "                    bond_type == Chem.rdchem.BondType.DOUBLE,\n",
    "                    bond_type == Chem.rdchem.BondType.TRIPLE,\n",
    "                    bond_type == Chem.rdchem.BondType.AROMATIC,\n",
    "                    bond.GetIsConjugated(),\n",
    "                ]\n",
    "                edge_features.extend([features, features])\n",
    "                \n",
    "            edge_index = torch.tensor(edges_list, dtype=torch.long).t()\n",
    "            edge_attr = torch.tensor(edge_features, dtype=torch.float)\n",
    "            \n",
    "            # Create PyG Data object\n",
    "            data = Data(\n",
    "                x=x,\n",
    "                edge_index=edge_index,\n",
    "                edge_attr=edge_attr,\n",
    "                y=torch.tensor([row[self.target_col]], dtype=torch.float),\n",
    "            )\n",
    "            data_list.append(data)\n",
    "        return data_list\n",
    "    \n",
    "    def len(self):\n",
    "        return len(self.data_list)\n",
    "    \n",
    "    def get(self, idx):\n",
    "        return self.data_list[idx]\n"
   ],
   "id": "6e3c7ca7635ba0e3",
   "outputs": [],
   "execution_count": 9
  },
  {
   "metadata": {
    "ExecuteTime": {
     "end_time": "2025-05-28T07:40:44.087897Z",
     "start_time": "2025-05-28T07:40:42.623594Z"
    }
   },
   "cell_type": "code",
   "source": [
    "# Load data\n",
    "model_name = 'Irritation_Corrosion_Eye_Irritation'\n",
    "df = pd.read_csv(f\"../data/{model_name}.csv\")\n",
    "\n",
    "# Split data\n",
    "train_df, test_df = train_test_split(df, test_size=0.2, random_state=42, stratify=df['active'])\n",
    "train_df, val_df = train_test_split(train_df, test_size=0.2, random_state=42, stratify=train_df['active'])\n",
    "\n",
    "# Create datasets\n",
    "train_dataset = MoleculeDataset(train_df)\n",
    "val_dataset = MoleculeDataset(val_df)\n",
    "test_dataset = MoleculeDataset(test_df)\n",
    "\n",
    "# Create data loaders\n",
    "train_loader = DataLoader(train_dataset, batch_size=32, shuffle=True)\n",
    "val_loader = DataLoader(val_dataset, batch_size=32, shuffle=False)\n",
    "test_loader = DataLoader(test_dataset, batch_size=32, shuffle=False)\n",
    "\n",
    "print(f\"Train size: {len(train_dataset)}\")\n",
    "print(f\"Validation size: {len(val_dataset)}\")\n",
    "print(f\"Test size: {len(test_dataset)}\")\n"
   ],
   "id": "31ec2f47f23d2e1e",
   "outputs": [
    {
     "name": "stdout",
     "output_type": "stream",
     "text": [
      "Train size: 3280\n",
      "Validation size: 820\n",
      "Test size: 1025\n"
     ]
    }
   ],
   "execution_count": 10
  },
  {
   "metadata": {},
   "cell_type": "markdown",
   "source": [
    "# Model Definition\n",
    "Using PyTorch Geometric's AttentiveFP implementation\n"
   ],
   "id": "d67322f22274863a"
  },
  {
   "metadata": {
    "ExecuteTime": {
     "end_time": "2025-05-28T07:40:44.114790Z",
     "start_time": "2025-05-28T07:40:44.105714Z"
    }
   },
   "cell_type": "code",
   "source": [
    "# Set device\n",
    "device = torch.device('cuda' if torch.cuda.is_available() else 'cpu')\n",
    "\n",
    "# Define model\n",
    "model = AttentiveFP(\n",
    "    in_channels=7,  # Number of atom features\n",
    "    hidden_channels=64,\n",
    "    out_channels=1,  # Binary classification\n",
    "    edge_dim=5,  # Number of bond features\n",
    "    num_layers=3,\n",
    "    num_timesteps=2,\n",
    "    dropout=0.1\n",
    ").to(device)\n",
    "\n",
    "# Loss function with class weights\n",
    "pos_weight = torch.tensor([\n",
    "    (len(train_df) - train_df['active'].sum()) / train_df['active'].sum()\n",
    "]).to(device)\n",
    "criterion = nn.BCEWithLogitsLoss(pos_weight=pos_weight)\n",
    "\n",
    "# Optimizer\n",
    "optimizer = optim.Adam(model.parameters(), lr=0.001, weight_decay=1e-5)\n",
    "scheduler = optim.lr_scheduler.ReduceLROnPlateau(\n",
    "    optimizer, mode='min', factor=0.5, patience=5\n",
    ")\n"
   ],
   "id": "adebca3dd60acdc1",
   "outputs": [],
   "execution_count": 11
  },
  {
   "metadata": {},
   "cell_type": "markdown",
   "source": "# Training and Evaluation Functions\n",
   "id": "e353c3fbb914c973"
  },
  {
   "metadata": {
    "ExecuteTime": {
     "end_time": "2025-05-28T07:40:44.165202Z",
     "start_time": "2025-05-28T07:40:44.159785Z"
    }
   },
   "cell_type": "code",
   "source": [
    "def train_epoch(model: AttentiveFP, loader, optimizer, criterion, device):\n",
    "    model.train()\n",
    "    total_loss = 0\n",
    "    predictions = []\n",
    "    targets = []\n",
    "    \n",
    "    for batch in loader:\n",
    "        batch = batch.to(device)\n",
    "        optimizer.zero_grad()\n",
    "        \n",
    "        out = model(\n",
    "            batch.x, batch.edge_index, batch.edge_attr,\n",
    "            batch_size=batch.batch.max().item() + 1\n",
    "        )\n",
    "        \n",
    "        loss = criterion(out, batch.y)\n",
    "        loss.backward()\n",
    "        optimizer.step()\n",
    "        \n",
    "        total_loss += loss.item() * batch.num_graphs\n",
    "        predictions.extend(torch.sigmoid(out).detach().cpu().numpy())\n",
    "        targets.extend(batch.y.detach().cpu().numpy())\n",
    "    \n",
    "    return (\n",
    "        total_loss / len(loader.dataset),\n",
    "        np.array(predictions),\n",
    "        np.array(targets)\n",
    "    )\n",
    "\n",
    "def evaluate(model, loader, criterion, device):\n",
    "    model.eval()\n",
    "    total_loss = 0\n",
    "    predictions = []\n",
    "    targets = []\n",
    "    \n",
    "    with torch.no_grad():\n",
    "        for batch in loader:\n",
    "            batch = batch.to(device)\n",
    "            out = model(\n",
    "                batch.x, batch.edge_index, batch.edge_attr,\n",
    "                batch_size=batch.batch.max().item() + 1\n",
    "            )\n",
    "            loss = criterion(out, batch.y)\n",
    "            \n",
    "            total_loss += loss.item() * batch.num_graphs\n",
    "            predictions.extend(torch.sigmoid(out).cpu().numpy())\n",
    "            targets.extend(batch.y.cpu().numpy())\n",
    "    \n",
    "    predictions = np.array(predictions)\n",
    "    targets = np.array(targets)\n",
    "    \n",
    "    return {\n",
    "        'loss': total_loss / len(loader.dataset),\n",
    "        'accuracy': accuracy_score(targets, predictions > 0.5),\n",
    "        'precision': precision_score(targets, predictions > 0.5),\n",
    "        'recall': recall_score(targets, predictions > 0.5),\n",
    "        'f1': f1_score(targets, predictions > 0.5),\n",
    "        'auc': roc_auc_score(targets, predictions)\n",
    "    }\n"
   ],
   "id": "7bc50d8715e8126c",
   "outputs": [],
   "execution_count": 12
  },
  {
   "metadata": {},
   "cell_type": "markdown",
   "source": "# Training Loop\n",
   "id": "79baec52f004c621"
  },
  {
   "metadata": {
    "ExecuteTime": {
     "end_time": "2025-05-28T07:40:44.272943Z",
     "start_time": "2025-05-28T07:40:44.224993Z"
    }
   },
   "cell_type": "code",
   "source": [
    "num_epochs = 50\n",
    "best_val_loss = float('inf')\n",
    "patience = 10\n",
    "patience_counter = 0\n",
    "history = {\n",
    "    'train_loss': [], 'val_loss': [],\n",
    "    'val_accuracy': [], 'val_f1': [], 'val_auc': []\n",
    "}\n",
    "\n",
    "for epoch in range(num_epochs):\n",
    "    # Training\n",
    "    train_loss, train_preds, train_targets = train_epoch(\n",
    "        model, train_loader, optimizer, criterion, device\n",
    "    )\n",
    "    \n",
    "    # Validation\n",
    "    val_metrics = evaluate(model, val_loader, criterion, device)\n",
    "    \n",
    "    # Update learning rate\n",
    "    scheduler.step(val_metrics['loss'])\n",
    "    \n",
    "    # Save metrics\n",
    "    history['train_loss'].append(train_loss)\n",
    "    history['val_loss'].append(val_metrics['loss'])\n",
    "    history['val_accuracy'].append(val_metrics['accuracy'])\n",
    "    history['val_f1'].append(val_metrics['f1'])\n",
    "    history['val_auc'].append(val_metrics['auc'])\n",
    "    \n",
    "    print(f\"Epoch {epoch+1}/{num_epochs}\")\n",
    "    print(f\"Train Loss: {train_loss:.4f}\")\n",
    "    print(f\"Val Loss: {val_metrics['loss']:.4f}\")\n",
    "    print(f\"Val Metrics: Acc={val_metrics['accuracy']:.3f}, \"\n",
    "          f\"F1={val_metrics['f1']:.3f}, AUC={val_metrics['auc']:.3f}\")\n",
    "    \n",
    "    # Early stopping\n",
    "    if val_metrics['loss'] < best_val_loss:\n",
    "        best_val_loss = val_metrics['loss']\n",
    "        patience_counter = 0\n",
    "        torch.save(model.state_dict(), f\"../models/model_{model_name}_geometric.pt\")\n",
    "        print(\"✓ Saved best model\")\n",
    "    else:\n",
    "        patience_counter += 1\n",
    "        if patience_counter >= patience:\n",
    "            print(\"Early stopping triggered!\")\n",
    "            break\n",
    "    print(\"-\" * 50)\n"
   ],
   "id": "a07d028c6a8bbdd5",
   "outputs": [
    {
     "ename": "TypeError",
     "evalue": "AttentiveFP.forward() got an unexpected keyword argument 'batch_size'",
     "output_type": "error",
     "traceback": [
      "\u001B[0;31m---------------------------------------------------------------------------\u001B[0m",
      "\u001B[0;31mTypeError\u001B[0m                                 Traceback (most recent call last)",
      "Cell \u001B[0;32mIn[13], line 12\u001B[0m\n\u001B[1;32m      5\u001B[0m history \u001B[38;5;241m=\u001B[39m {\n\u001B[1;32m      6\u001B[0m     \u001B[38;5;124m'\u001B[39m\u001B[38;5;124mtrain_loss\u001B[39m\u001B[38;5;124m'\u001B[39m: [], \u001B[38;5;124m'\u001B[39m\u001B[38;5;124mval_loss\u001B[39m\u001B[38;5;124m'\u001B[39m: [],\n\u001B[1;32m      7\u001B[0m     \u001B[38;5;124m'\u001B[39m\u001B[38;5;124mval_accuracy\u001B[39m\u001B[38;5;124m'\u001B[39m: [], \u001B[38;5;124m'\u001B[39m\u001B[38;5;124mval_f1\u001B[39m\u001B[38;5;124m'\u001B[39m: [], \u001B[38;5;124m'\u001B[39m\u001B[38;5;124mval_auc\u001B[39m\u001B[38;5;124m'\u001B[39m: []\n\u001B[1;32m      8\u001B[0m }\n\u001B[1;32m     10\u001B[0m \u001B[38;5;28;01mfor\u001B[39;00m epoch \u001B[38;5;129;01min\u001B[39;00m \u001B[38;5;28mrange\u001B[39m(num_epochs):\n\u001B[1;32m     11\u001B[0m     \u001B[38;5;66;03m# Training\u001B[39;00m\n\u001B[0;32m---> 12\u001B[0m     train_loss, train_preds, train_targets \u001B[38;5;241m=\u001B[39m \u001B[43mtrain_epoch\u001B[49m\u001B[43m(\u001B[49m\n\u001B[1;32m     13\u001B[0m \u001B[43m        \u001B[49m\u001B[43mmodel\u001B[49m\u001B[43m,\u001B[49m\u001B[43m \u001B[49m\u001B[43mtrain_loader\u001B[49m\u001B[43m,\u001B[49m\u001B[43m \u001B[49m\u001B[43moptimizer\u001B[49m\u001B[43m,\u001B[49m\u001B[43m \u001B[49m\u001B[43mcriterion\u001B[49m\u001B[43m,\u001B[49m\u001B[43m \u001B[49m\u001B[43mdevice\u001B[49m\n\u001B[1;32m     14\u001B[0m \u001B[43m    \u001B[49m\u001B[43m)\u001B[49m\n\u001B[1;32m     16\u001B[0m     \u001B[38;5;66;03m# Validation\u001B[39;00m\n\u001B[1;32m     17\u001B[0m     val_metrics \u001B[38;5;241m=\u001B[39m evaluate(model, val_loader, criterion, device)\n",
      "Cell \u001B[0;32mIn[12], line 11\u001B[0m, in \u001B[0;36mtrain_epoch\u001B[0;34m(model, loader, optimizer, criterion, device)\u001B[0m\n\u001B[1;32m      8\u001B[0m batch \u001B[38;5;241m=\u001B[39m batch\u001B[38;5;241m.\u001B[39mto(device)\n\u001B[1;32m      9\u001B[0m optimizer\u001B[38;5;241m.\u001B[39mzero_grad()\n\u001B[0;32m---> 11\u001B[0m out \u001B[38;5;241m=\u001B[39m \u001B[43mmodel\u001B[49m\u001B[43m(\u001B[49m\n\u001B[1;32m     12\u001B[0m \u001B[43m    \u001B[49m\u001B[43mbatch\u001B[49m\u001B[38;5;241;43m.\u001B[39;49m\u001B[43mx\u001B[49m\u001B[43m,\u001B[49m\u001B[43m \u001B[49m\u001B[43mbatch\u001B[49m\u001B[38;5;241;43m.\u001B[39;49m\u001B[43medge_index\u001B[49m\u001B[43m,\u001B[49m\u001B[43m \u001B[49m\u001B[43mbatch\u001B[49m\u001B[38;5;241;43m.\u001B[39;49m\u001B[43medge_attr\u001B[49m\u001B[43m,\u001B[49m\n\u001B[1;32m     13\u001B[0m \u001B[43m    \u001B[49m\u001B[43mbatch_size\u001B[49m\u001B[38;5;241;43m=\u001B[39;49m\u001B[43mbatch\u001B[49m\u001B[38;5;241;43m.\u001B[39;49m\u001B[43mbatch\u001B[49m\u001B[38;5;241;43m.\u001B[39;49m\u001B[43mmax\u001B[49m\u001B[43m(\u001B[49m\u001B[43m)\u001B[49m\u001B[38;5;241;43m.\u001B[39;49m\u001B[43mitem\u001B[49m\u001B[43m(\u001B[49m\u001B[43m)\u001B[49m\u001B[43m \u001B[49m\u001B[38;5;241;43m+\u001B[39;49m\u001B[43m \u001B[49m\u001B[38;5;241;43m1\u001B[39;49m\n\u001B[1;32m     14\u001B[0m \u001B[43m\u001B[49m\u001B[43m)\u001B[49m\n\u001B[1;32m     16\u001B[0m loss \u001B[38;5;241m=\u001B[39m criterion(out, batch\u001B[38;5;241m.\u001B[39my)\n\u001B[1;32m     17\u001B[0m loss\u001B[38;5;241m.\u001B[39mbackward()\n",
      "File \u001B[0;32m~/Projects/ntua/pyrosage/.venv/lib/python3.10/site-packages/torch/nn/modules/module.py:1751\u001B[0m, in \u001B[0;36mModule._wrapped_call_impl\u001B[0;34m(self, *args, **kwargs)\u001B[0m\n\u001B[1;32m   1749\u001B[0m     \u001B[38;5;28;01mreturn\u001B[39;00m \u001B[38;5;28mself\u001B[39m\u001B[38;5;241m.\u001B[39m_compiled_call_impl(\u001B[38;5;241m*\u001B[39margs, \u001B[38;5;241m*\u001B[39m\u001B[38;5;241m*\u001B[39mkwargs)  \u001B[38;5;66;03m# type: ignore[misc]\u001B[39;00m\n\u001B[1;32m   1750\u001B[0m \u001B[38;5;28;01melse\u001B[39;00m:\n\u001B[0;32m-> 1751\u001B[0m     \u001B[38;5;28;01mreturn\u001B[39;00m \u001B[38;5;28;43mself\u001B[39;49m\u001B[38;5;241;43m.\u001B[39;49m\u001B[43m_call_impl\u001B[49m\u001B[43m(\u001B[49m\u001B[38;5;241;43m*\u001B[39;49m\u001B[43margs\u001B[49m\u001B[43m,\u001B[49m\u001B[43m \u001B[49m\u001B[38;5;241;43m*\u001B[39;49m\u001B[38;5;241;43m*\u001B[39;49m\u001B[43mkwargs\u001B[49m\u001B[43m)\u001B[49m\n",
      "File \u001B[0;32m~/Projects/ntua/pyrosage/.venv/lib/python3.10/site-packages/torch/nn/modules/module.py:1762\u001B[0m, in \u001B[0;36mModule._call_impl\u001B[0;34m(self, *args, **kwargs)\u001B[0m\n\u001B[1;32m   1757\u001B[0m \u001B[38;5;66;03m# If we don't have any hooks, we want to skip the rest of the logic in\u001B[39;00m\n\u001B[1;32m   1758\u001B[0m \u001B[38;5;66;03m# this function, and just call forward.\u001B[39;00m\n\u001B[1;32m   1759\u001B[0m \u001B[38;5;28;01mif\u001B[39;00m \u001B[38;5;129;01mnot\u001B[39;00m (\u001B[38;5;28mself\u001B[39m\u001B[38;5;241m.\u001B[39m_backward_hooks \u001B[38;5;129;01mor\u001B[39;00m \u001B[38;5;28mself\u001B[39m\u001B[38;5;241m.\u001B[39m_backward_pre_hooks \u001B[38;5;129;01mor\u001B[39;00m \u001B[38;5;28mself\u001B[39m\u001B[38;5;241m.\u001B[39m_forward_hooks \u001B[38;5;129;01mor\u001B[39;00m \u001B[38;5;28mself\u001B[39m\u001B[38;5;241m.\u001B[39m_forward_pre_hooks\n\u001B[1;32m   1760\u001B[0m         \u001B[38;5;129;01mor\u001B[39;00m _global_backward_pre_hooks \u001B[38;5;129;01mor\u001B[39;00m _global_backward_hooks\n\u001B[1;32m   1761\u001B[0m         \u001B[38;5;129;01mor\u001B[39;00m _global_forward_hooks \u001B[38;5;129;01mor\u001B[39;00m _global_forward_pre_hooks):\n\u001B[0;32m-> 1762\u001B[0m     \u001B[38;5;28;01mreturn\u001B[39;00m \u001B[43mforward_call\u001B[49m\u001B[43m(\u001B[49m\u001B[38;5;241;43m*\u001B[39;49m\u001B[43margs\u001B[49m\u001B[43m,\u001B[49m\u001B[43m \u001B[49m\u001B[38;5;241;43m*\u001B[39;49m\u001B[38;5;241;43m*\u001B[39;49m\u001B[43mkwargs\u001B[49m\u001B[43m)\u001B[49m\n\u001B[1;32m   1764\u001B[0m result \u001B[38;5;241m=\u001B[39m \u001B[38;5;28;01mNone\u001B[39;00m\n\u001B[1;32m   1765\u001B[0m called_always_called_hooks \u001B[38;5;241m=\u001B[39m \u001B[38;5;28mset\u001B[39m()\n",
      "\u001B[0;31mTypeError\u001B[0m: AttentiveFP.forward() got an unexpected keyword argument 'batch_size'"
     ]
    }
   ],
   "execution_count": 13
  },
  {
   "metadata": {},
   "cell_type": "markdown",
   "source": "# Evaluation and Visualization\n",
   "id": "e4bdc4dffd8ab547"
  },
  {
   "metadata": {},
   "cell_type": "code",
   "outputs": [],
   "execution_count": null,
   "source": [
    "# Plot training history\n",
    "plt.figure(figsize=(12, 4))\n",
    "\n",
    "plt.subplot(1, 2, 1)\n",
    "plt.plot(history['train_loss'], label='Train Loss')\n",
    "plt.plot(history['val_loss'], label='Val Loss')\n",
    "plt.title('Training and Validation Loss')\n",
    "plt.xlabel('Epoch')\n",
    "plt.ylabel('Loss')\n",
    "plt.legend()\n",
    "\n",
    "plt.subplot(1, 2, 2)\n",
    "plt.plot(history['val_accuracy'], label='Accuracy')\n",
    "plt.plot(history['val_f1'], label='F1 Score')\n",
    "plt.plot(history['val_auc'], label='AUC')\n",
    "plt.title('Validation Metrics')\n",
    "plt.xlabel('Epoch')\n",
    "plt.ylabel('Score')\n",
    "plt.legend()\n",
    "\n",
    "plt.tight_layout()\n",
    "plt.show()\n",
    "\n",
    "# Final evaluation on test set\n",
    "model.load_state_dict(torch.load(f\"../models/model_{model_name}_geometric.pt\"))\n",
    "test_metrics = evaluate(model, test_loader, criterion, device)\n",
    "\n",
    "print(\"\\nTest Set Metrics:\")\n",
    "for metric, value in test_metrics.items():\n",
    "    print(f\"{metric}: {value:.4f}\")"
   ],
   "id": "8e6a38f60fc13bad"
  }
 ],
 "metadata": {
  "kernelspec": {
   "display_name": "Python 3",
   "language": "python",
   "name": "python3"
  },
  "language_info": {
   "codemirror_mode": {
    "name": "ipython",
    "version": 2
   },
   "file_extension": ".py",
   "mimetype": "text/x-python",
   "name": "python",
   "nbconvert_exporter": "python",
   "pygments_lexer": "ipython2",
   "version": "2.7.6"
  }
 },
 "nbformat": 4,
 "nbformat_minor": 5
}
