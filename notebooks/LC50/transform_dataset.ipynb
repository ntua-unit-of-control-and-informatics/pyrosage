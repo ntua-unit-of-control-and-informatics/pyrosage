{
 "cells": [
  {
   "cell_type": "code",
   "id": "initial_id",
   "metadata": {
    "collapsed": true,
    "ExecuteTime": {
     "end_time": "2025-05-22T13:28:26.875946Z",
     "start_time": "2025-05-22T13:28:26.558Z"
    }
   },
   "source": [
    "import pandas as pd\n",
    "\n",
    "df = pd.read_csv('Ecotoxicity_LC50.csv')\n"
   ],
   "outputs": [],
   "execution_count": 2
  },
  {
   "metadata": {
    "ExecuteTime": {
     "end_time": "2025-05-22T13:29:42.092737Z",
     "start_time": "2025-05-22T13:29:42.083405Z"
    }
   },
   "cell_type": "code",
   "source": [
    "# Rename columns\n",
    "df = df.rename(columns={\n",
    "    \"SMILES\": \"smiles\",\n",
    "    \"LC50\": \"active\"\n",
    "})\n",
    "\n",
    "# Drop the original index column if it's unnamed (first unnamed column)\n",
    "if df.columns[0] == \"\":\n",
    "    df = df.drop(columns=df.columns[0])\n",
    "\n",
    "# Add a new 1-based index\n",
    "df.index = range(1, len(df) + 1)\n",
    "df.reset_index(inplace=True)\n",
    "df = df[[\"index\", \"smiles\", \"active\"]]\n",
    "\n",
    "# Save to CSV\n",
    "df.to_csv('../../data/LD50_Zhu.csv', index=False)\n"
   ],
   "id": "3e62e6061c68bc61",
   "outputs": [],
   "execution_count": 7
  }
 ],
 "metadata": {
  "kernelspec": {
   "display_name": "Python 3",
   "language": "python",
   "name": "python3"
  },
  "language_info": {
   "codemirror_mode": {
    "name": "ipython",
    "version": 2
   },
   "file_extension": ".py",
   "mimetype": "text/x-python",
   "name": "python",
   "nbconvert_exporter": "python",
   "pygments_lexer": "ipython2",
   "version": "2.7.6"
  }
 },
 "nbformat": 4,
 "nbformat_minor": 5
}
