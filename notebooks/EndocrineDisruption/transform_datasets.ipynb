{
 "cells": [
  {
   "cell_type": "code",
   "id": "initial_id",
   "metadata": {
    "collapsed": true,
    "ExecuteTime": {
     "end_time": "2025-05-27T06:44:38.923816Z",
     "start_time": "2025-05-27T06:44:38.653578Z"
    }
   },
   "source": [
    "import pandas as pd\n",
    "\n",
    "csv_names = [\n",
    "    'Endocrine Disruption_NR-AhR.csv',\n",
    "    'Endocrine Disruption_NR-AR.csv',\n",
    "    'Endocrine Disruption_NR-aromatase.csv',\n",
    "    'Endocrine Disruption_NR-ER.csv',\n",
    "    ]"
   ],
   "outputs": [],
   "execution_count": 1
  },
  {
   "metadata": {
    "ExecuteTime": {
     "end_time": "2025-05-27T06:44:39.070246Z",
     "start_time": "2025-05-27T06:44:38.995818Z"
    }
   },
   "cell_type": "code",
   "source": [
    "# Rename columns\n",
    "for csv_name in csv_names:\n",
    "    # https://toxric.bioinforai.tech/download\n",
    "    df = pd.read_csv(csv_name)\n",
    "\n",
    "    df = df.rename(columns={\n",
    "        \"Canonical SMILES\": \"smiles\",\n",
    "        \"Toxicity Value\": \"active\"\n",
    "    })\n",
    "\n",
    "    # Drop the original index column if it's unnamed (first unnamed column)\n",
    "    if df.columns[0] == \"\":\n",
    "        df = df.drop(columns=df.columns[0])\n",
    "\n",
    "    # Add a new 1-based index\n",
    "    df.index = range(1, len(df) + 1)\n",
    "    df.reset_index(inplace=True)\n",
    "    df = df[[\"index\", \"smiles\", \"active\"]]\n",
    "\n",
    "    # Save to CSV\n",
    "    df.to_csv(f'../../data/{csv_name}', index=False)\n"
   ],
   "id": "3e62e6061c68bc61",
   "outputs": [],
   "execution_count": 2
  }
 ],
 "metadata": {
  "kernelspec": {
   "display_name": "Python 3",
   "language": "python",
   "name": "python3"
  },
  "language_info": {
   "codemirror_mode": {
    "name": "ipython",
    "version": 2
   },
   "file_extension": ".py",
   "mimetype": "text/x-python",
   "name": "python",
   "nbconvert_exporter": "python",
   "pygments_lexer": "ipython2",
   "version": "2.7.6"
  }
 },
 "nbformat": 4,
 "nbformat_minor": 5
}
