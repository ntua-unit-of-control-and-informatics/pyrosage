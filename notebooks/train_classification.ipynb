{
 "cells": [
  {
   "cell_type": "code",
   "id": "7ab3b66f4aa6c8f0",
   "metadata": {
    "ExecuteTime": {
     "end_time": "2025-05-27T11:15:09.754994Z",
     "start_time": "2025-05-27T11:15:09.751154Z"
    }
   },
   "source": [
    "import pandas as pd\n",
    "import torch\n",
    "from torch.nn import BCEWithLogitsLoss\n",
    "from torch.optim import Adam\n",
    "from torch.utils.data import Dataset, DataLoader\n",
    "\n",
    "from AttentiveFP import Fingerprint  # assumed to be your attentive FP model\n",
    "from AttentiveFP import get_smiles_dicts, get_smiles_array, num_atom_features, \\\n",
    "    num_bond_features  # assumed to be your actual featurizer"
   ],
   "outputs": [],
   "execution_count": 8
  },
  {
   "cell_type": "code",
   "id": "06510a14-aa01-4d43-a271-8038c4a35bef",
   "metadata": {
    "ExecuteTime": {
     "end_time": "2025-05-27T11:15:09.840745Z",
     "start_time": "2025-05-27T11:15:09.833266Z"
    }
   },
   "source": [
    "# --- Device ---\n",
    "device = torch.device(\"cuda\" if torch.cuda.is_available() else \"cpu\")\n",
    "model_name = 'Irritation_Corrosion_Eye_Irritation'\n",
    "\n",
    "# --- Dataset ---\n",
    "class MoleculeDataset(Dataset):\n",
    "    def __init__(self, smiles_list, targets, feature_dicts):\n",
    "        self.smiles_list = smiles_list\n",
    "        self.targets = targets\n",
    "        self.feature_dicts = feature_dicts\n",
    "        self.x_atom, self.x_bond, self.x_atom_index, self.x_bond_index, self.x_mask, _ = get_smiles_array(smiles_list, feature_dicts)\n",
    "\n",
    "    def __len__(self):\n",
    "        return len(self.feature_dicts)\n",
    "\n",
    "    def __getitem__(self, idx):\n",
    "        return (\n",
    "            torch.tensor(self.x_atom[idx], dtype=torch.float32),\n",
    "            torch.tensor(self.x_bond[idx], dtype=torch.float32),\n",
    "            torch.tensor(self.x_atom_index[idx], dtype=torch.long),\n",
    "            torch.tensor(self.x_bond_index[idx], dtype=torch.long),\n",
    "            torch.tensor(self.x_mask[idx], dtype=torch.float32),\n",
    "            torch.tensor(self.targets[idx], dtype=torch.float32)\n",
    "        )"
   ],
   "outputs": [],
   "execution_count": 9
  },
  {
   "cell_type": "code",
   "id": "a097b977-66fa-42b5-9a83-640e635c0a6e",
   "metadata": {
    "ExecuteTime": {
     "end_time": "2025-05-27T11:15:17.120732Z",
     "start_time": "2025-05-27T11:15:09.919465Z"
    }
   },
   "source": [
    "# --- Load data ---\n",
    "df = pd.read_csv(f\"../data/{model_name}.csv\")\n",
    "smiles_list = df[\"smiles\"].tolist()\n",
    "targets = df[\"active\"].tolist()\n",
    "feature_dicts = get_smiles_dicts(smiles_list)\n",
    "\n",
    "# --- Dataloader ---\n",
    "dataset = MoleculeDataset(smiles_list, targets, feature_dicts)\n",
    "loader = DataLoader(dataset, batch_size=32, shuffle=True)"
   ],
   "outputs": [
    {
     "name": "stdout",
     "output_type": "stream",
     "text": [
      "FS(F)(F)(F)(F)c1ccccc1\n",
      "Warning: SMILES FS(F)(F)(F)(F)c1ccccc1 not found in feature dictionaries\n"
     ]
    }
   ],
   "execution_count": 10
  },
  {
   "cell_type": "code",
   "id": "723ac54d-507c-4fd1-8035-3f137871e54d",
   "metadata": {
    "ExecuteTime": {
     "end_time": "2025-05-27T11:15:17.149224Z",
     "start_time": "2025-05-27T11:15:17.140792Z"
    }
   },
   "source": [
    "# --- Model ---\n",
    "model = Fingerprint(\n",
    "    radius=5,\n",
    "    T=3,\n",
    "    input_feature_dim=num_atom_features(),\n",
    "    input_bond_dim=num_bond_features(),\n",
    "    fingerprint_dim=150,\n",
    "    output_units_num=1,\n",
    "    p_dropout=0.3\n",
    ").to(device)\n",
    "\n",
    "optimizer = Adam(model.parameters(), lr=0.001, weight_decay=1e-5)\n",
    "\n",
    "pos_weight = torch.tensor([2.0], device=device)\n",
    "loss_fn = BCEWithLogitsLoss()"
   ],
   "outputs": [],
   "execution_count": 11
  },
  {
   "cell_type": "code",
   "id": "408a5e5c-7050-4706-b316-17942f475f1f",
   "metadata": {
    "ExecuteTime": {
     "end_time": "2025-05-27T11:15:17.415396Z",
     "start_time": "2025-05-27T11:15:17.200503Z"
    }
   },
   "source": [
    "from sklearn.model_selection import train_test_split\n",
    "\n",
    "# Split SMILES and targets\n",
    "train_smiles, val_smiles, train_targets, val_targets = train_test_split(\n",
    "    smiles_list, targets, test_size=0.2, random_state=42\n",
    ")\n",
    "\n",
    "train_set = MoleculeDataset(train_smiles, train_targets, feature_dicts)\n",
    "val_set = MoleculeDataset(val_smiles, val_targets, feature_dicts)\n",
    "\n",
    "train_loader = DataLoader(train_set, batch_size=32, shuffle=True)\n",
    "val_loader = DataLoader(val_set, batch_size=32, shuffle=False)\n"
   ],
   "outputs": [
    {
     "name": "stdout",
     "output_type": "stream",
     "text": [
      "Warning: SMILES FS(F)(F)(F)(F)c1ccccc1 not found in feature dictionaries\n"
     ]
    }
   ],
   "execution_count": 12
  },
  {
   "cell_type": "code",
   "id": "164a302e-4f5f-4725-b528-9b2ece383ebe",
   "metadata": {
    "ExecuteTime": {
     "end_time": "2025-05-27T11:15:22.352296Z",
     "start_time": "2025-05-27T11:15:17.446404Z"
    }
   },
   "source": [
    "import os\n",
    "\n",
    "# Folder to save model\n",
    "os.makedirs(\"../models\", exist_ok=True)\n",
    "best_loss = float(\"inf\")\n",
    "path = f\"../models/model_{model_name}.pt\"\n",
    "\n",
    "# try:\n",
    "#     # Load existing model\n",
    "#     model.load_state_dict(torch.load(path))\n",
    "#     model.to(device)\n",
    "#     model.eval()\n",
    "# except:\n",
    "#     print(\"The model could not be loaded\")\n",
    "\n",
    "best_loss = float(\"inf\")\n",
    "os.makedirs(\"../models\", exist_ok=True)\n",
    "\n",
    "for epoch in range(30):\n",
    "    model.train()\n",
    "    train_loss = 0\n",
    "\n",
    "    for atom, bond, atom_deg, bond_deg, mask, target in train_loader:\n",
    "        atom, bond, atom_deg, bond_deg, mask, target = [\n",
    "            t.to(device) for t in (atom, bond, atom_deg, bond_deg, mask, target)\n",
    "        ]\n",
    "        _, pred, _ = model(atom, bond, atom_deg, bond_deg, mask)\n",
    "        loss = loss_fn(pred.squeeze(), target)\n",
    "\n",
    "        optimizer.zero_grad()\n",
    "        loss.backward()\n",
    "        optimizer.step()\n",
    "        train_loss += loss.item()\n",
    "\n",
    "    # --- Validation ---\n",
    "    model.eval()\n",
    "    val_loss = 0\n",
    "    with torch.no_grad():\n",
    "        for atom, bond, atom_deg, bond_deg, mask, target in val_loader:\n",
    "            atom, bond, atom_deg, bond_deg, mask, target = [\n",
    "                t.to(device) for t in (atom, bond, atom_deg, bond_deg, mask, target)\n",
    "            ]\n",
    "            _, pred, _ = model(atom, bond, atom_deg, bond_deg, mask)\n",
    "            loss = loss_fn(pred.squeeze(), target)\n",
    "            val_loss += loss.item()\n",
    "\n",
    "    print(f\"Epoch {epoch+1} - Train Loss: {train_loss:.4f} - Val Loss: {val_loss:.4f}\")\n",
    "\n",
    "    # Save best model\n",
    "    if val_loss < best_loss:\n",
    "        best_loss = val_loss\n",
    "        torch.save(model.state_dict(), path)\n",
    "        print(f\"✅ Saved best model to {path} (val loss: {best_loss:.4f})\")\n",
    "\n"
   ],
   "outputs": [
    {
     "name": "stdout",
     "output_type": "stream",
     "text": [
      "Epoch 1 - Train Loss: 0.6587 - Val Loss: 0.6778\n",
      "✅ Saved best model to ../models/model_Irritation_Corrosion_Eye_Irritation.pt (val loss: 0.6778)\n",
      "Epoch 2 - Train Loss: 0.5381 - Val Loss: 0.7295\n",
      "Epoch 3 - Train Loss: 0.4514 - Val Loss: 0.9140\n",
      "Epoch 4 - Train Loss: 0.3140 - Val Loss: 1.3498\n",
      "Epoch 5 - Train Loss: 0.1881 - Val Loss: 2.1882\n",
      "Epoch 6 - Train Loss: 0.0732 - Val Loss: 3.6134\n",
      "Epoch 7 - Train Loss: 0.0205 - Val Loss: 5.7093\n",
      "Epoch 8 - Train Loss: 0.0047 - Val Loss: 8.1628\n",
      "Epoch 9 - Train Loss: 0.0003 - Val Loss: 10.4970\n",
      "Epoch 10 - Train Loss: 0.0000 - Val Loss: 12.4925\n",
      "Epoch 11 - Train Loss: 0.0000 - Val Loss: 14.1145\n",
      "Epoch 12 - Train Loss: 0.0000 - Val Loss: 15.3983\n",
      "Epoch 13 - Train Loss: 0.0000 - Val Loss: 16.4000\n",
      "Epoch 14 - Train Loss: 0.0000 - Val Loss: 17.1816\n",
      "Epoch 15 - Train Loss: 0.0000 - Val Loss: 17.7990\n",
      "Epoch 16 - Train Loss: 0.0000 - Val Loss: 18.2937\n",
      "Epoch 17 - Train Loss: 0.0000 - Val Loss: 18.6938\n",
      "Epoch 18 - Train Loss: 0.0000 - Val Loss: 19.0220\n",
      "Epoch 19 - Train Loss: 0.0000 - Val Loss: 19.2991\n",
      "Epoch 20 - Train Loss: 0.0000 - Val Loss: 19.5426\n",
      "Epoch 21 - Train Loss: 0.0000 - Val Loss: 19.7639\n",
      "Epoch 22 - Train Loss: 0.0000 - Val Loss: 19.9679\n",
      "Epoch 23 - Train Loss: 0.0000 - Val Loss: 20.1546\n",
      "Epoch 24 - Train Loss: 0.0000 - Val Loss: 20.3228\n",
      "Epoch 25 - Train Loss: 0.0000 - Val Loss: 20.4716\n",
      "Epoch 26 - Train Loss: 0.0000 - Val Loss: 20.6016\n",
      "Epoch 27 - Train Loss: 0.0000 - Val Loss: 20.7143\n",
      "Epoch 28 - Train Loss: 0.0000 - Val Loss: 20.8117\n",
      "Epoch 29 - Train Loss: 0.0000 - Val Loss: 20.8962\n",
      "Epoch 30 - Train Loss: 0.0000 - Val Loss: 20.9696\n"
     ]
    }
   ],
   "execution_count": 13
  }
 ],
 "metadata": {
  "kernelspec": {
   "display_name": "pyrosage",
   "language": "python",
   "name": "pyrosage"
  },
  "language_info": {
   "codemirror_mode": {
    "name": "ipython",
    "version": 3
   },
   "file_extension": ".py",
   "mimetype": "text/x-python",
   "name": "python",
   "nbconvert_exporter": "python",
   "pygments_lexer": "ipython3",
   "version": "3.11.12"
  }
 },
 "nbformat": 4,
 "nbformat_minor": 5
}
