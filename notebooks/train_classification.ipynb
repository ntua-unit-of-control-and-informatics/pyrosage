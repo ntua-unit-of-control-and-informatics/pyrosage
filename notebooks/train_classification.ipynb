{
 "cells": [
  {
   "cell_type": "code",
   "id": "7ab3b66f4aa6c8f0",
   "metadata": {
    "ExecuteTime": {
     "end_time": "2025-05-27T11:15:09.754994Z",
     "start_time": "2025-05-27T11:15:09.751154Z"
    }
   },
   "source": [
    "import pandas as pd\n",
    "import torch\n",
    "from torch.nn import BCEWithLogitsLoss\n",
    "from torch.optim import Adam\n",
    "from torch.utils.data import Dataset, DataLoader\n",
    "\n",
    "from AttentiveFP import Fingerprint  # assumed to be your attentive FP model\n",
    "from AttentiveFP import get_smiles_dicts, get_smiles_array, num_atom_features, \\\n",
    "    num_bond_features  # assumed to be your actual featurizer"
   ],
   "outputs": [],
   "execution_count": 8
  },
  {
   "cell_type": "code",
   "id": "06510a14-aa01-4d43-a271-8038c4a35bef",
   "metadata": {
    "ExecuteTime": {
     "end_time": "2025-05-27T11:15:09.840745Z",
     "start_time": "2025-05-27T11:15:09.833266Z"
    }
   },
   "source": [
    "# --- Device ---\n",
    "device = torch.device(\"cuda\" if torch.cuda.is_available() else \"cpu\")\n",
    "model_name = 'Irritation_Corrosion_Eye_Irritation'\n",
    "\n",
    "# --- Dataset ---\n",
    "class MoleculeDataset(Dataset):\n",
    "    def __init__(self, smiles_list, targets, feature_dicts):\n",
    "        self.smiles_list = smiles_list\n",
    "        self.targets = targets\n",
    "        self.feature_dicts = feature_dicts\n",
    "        self.x_atom, self.x_bond, self.x_atom_index, self.x_bond_index, self.x_mask, _ = get_smiles_array(smiles_list, feature_dicts)\n",
    "\n",
    "    def __len__(self):\n",
    "        return len(self.feature_dicts)\n",
    "\n",
    "    def __getitem__(self, idx):\n",
    "        return (\n",
    "            torch.tensor(self.x_atom[idx], dtype=torch.float32),\n",
    "            torch.tensor(self.x_bond[idx], dtype=torch.float32),\n",
    "            torch.tensor(self.x_atom_index[idx], dtype=torch.long),\n",
    "            torch.tensor(self.x_bond_index[idx], dtype=torch.long),\n",
    "            torch.tensor(self.x_mask[idx], dtype=torch.float32),\n",
    "            torch.tensor(self.targets[idx], dtype=torch.float32)\n",
    "        )"
   ],
   "outputs": [],
   "execution_count": 9
  },
  {
   "cell_type": "code",
   "id": "a097b977-66fa-42b5-9a83-640e635c0a6e",
   "metadata": {
    "ExecuteTime": {
     "end_time": "2025-05-27T12:07:25.723443Z",
     "start_time": "2025-05-27T12:07:07.525094Z"
    }
   },
   "source": [
    "# --- Load data ---\n",
    "df = pd.read_csv(f\"../data/{model_name}.csv\")\n",
    "smiles_list = df[\"smiles\"].tolist()\n",
    "targets = df[\"active\"].tolist()\n",
    "feature_dicts = get_smiles_dicts(smiles_list)\n",
    "\n",
    "# First split: 60% train, 20% val, 20% test\n",
    "train_smiles, temp_smiles, train_targets, temp_targets = train_test_split(\n",
    "    smiles_list, targets, test_size=0.4, random_state=42, stratify=targets\n",
    ")\n",
    "\n",
    "val_smiles, test_smiles, val_targets, test_targets = train_test_split(\n",
    "    temp_smiles, temp_targets, test_size=0.5, random_state=42, stratify=temp_targets\n",
    ")\n",
    "\n",
    "# Apply oversampling only to training data\n",
    "from imblearn.over_sampling import RandomOverSampler\n",
    "from collections import Counter\n",
    "\n",
    "ros = RandomOverSampler()\n",
    "ros = RandomOverSampler(random_state=42)\n",
    "X_res, y_res = ros.fit_resample([[s] for s in smiles_list], targets)\n",
    "X_res, y_res = ros.fit_resample([[s] for s in train_smiles], train_targets)\n",
    "train_smiles_resampled = [x[0] for x in X_res]\n",
    "\n",
    "print(\"Class distribution in original training set:\", Counter(train_targets))\n",
    "print(\"Class distribution after resampling:\", Counter(y_res))\n",
    "\n",
    "# Flatten X_res to get new smiles\n",
    "# Calculate class weights based on original training data\n",
    "from sklearn.utils.class_weight import compute_class_weight\n",
    "smiles_list_resampled = [x[0] for x in X_res]\n",
    "class_weights = compute_class_weight('balanced', classes=[0, 1], y=train_targets)\n",
    "class_weights_dict = {0: class_weights[0], 1: class_weights[1]}\n",
    "print(\"Class weights:\", class_weights_dict)\n",
    "\n",
    "print(Counter(y_res))  # See new class balance\n",
    "# Convert to tensor for PyTorch\n",
    "pos_weight = torch.tensor([class_weights_dict[1] / class_weights_dict[0]], device=device)\n",
    "\n",
    "# Rebuild features and dataset\n",
    "# Get feature dictionaries for all sets\n",
    "feature_dicts_resampled = get_smiles_dicts(smiles_list_resampled)\n",
    "feature_dicts_train = get_smiles_dicts(train_smiles_resampled)\n",
    "dataset = MoleculeDataset(smiles_list_resampled, y_res, feature_dicts_resampled)\n",
    "loader = DataLoader(dataset, batch_size=32, shuffle=True)\n",
    "feature_dicts_val = get_smiles_dicts(val_smiles)\n",
    "feature_dicts_test = get_smiles_dicts(test_smiles)\n",
    "\n",
    "# Create datasets\n",
    "train_dataset = MoleculeDataset(train_smiles_resampled, y_res, feature_dicts_train)\n",
    "val_dataset = MoleculeDataset(val_smiles, val_targets, feature_dicts_val)\n",
    "test_dataset = MoleculeDataset(test_smiles, test_targets, feature_dicts_test)\n",
    "\n",
    "# Create data loaders\n",
    "train_loader = DataLoader(train_dataset, batch_size=32, shuffle=True)\n",
    "val_loader = DataLoader(val_dataset, batch_size=32, shuffle=False)\n",
    "test_loader = DataLoader(test_dataset, batch_size=32, shuffle=False)\n"
   ],
   "outputs": [
    {
     "name": "stdout",
     "output_type": "stream",
     "text": [
      "FS(F)(F)(F)(F)c1ccccc1\n",
      "Counter({0: 3832, 1: 3832})\n",
      "FS(F)(F)(F)(F)c1ccccc1\n",
      "Warning: SMILES FS(F)(F)(F)(F)c1ccccc1 not found in feature dictionaries\n"
     ]
    }
   ],
   "execution_count": 19
  },
  {
   "cell_type": "code",
   "id": "723ac54d-507c-4fd1-8035-3f137871e54d",
   "metadata": {
    "ExecuteTime": {
     "end_time": "2025-05-27T12:07:25.764777Z",
     "start_time": "2025-05-27T12:07:25.751967Z"
    }
   },
   "source": [
    "# --- Model ---\n",
    "model = Fingerprint(\n",
    "    radius=5,\n",
    "    T=3,\n",
    "    T=4,  # Increased T for better message passing\n",
    "    input_feature_dim=num_atom_features(),\n",
    "    input_bond_dim=num_bond_features(),\n",
    "    fingerprint_dim=150,\n",
    "    fingerprint_dim=256,  # Increased dimension for more complex feature learning\n",
    "    output_units_num=1,\n",
    "    p_dropout=0.3\n",
    "    p_dropout=0.5  # Increased dropout for better regularization\n",
    ").to(device)\n",
    "\n",
    "# Using a lower learning rate and higher weight decay for better generalization\n",
    "optimizer = Adam(model.parameters(), lr=0.001, weight_decay=1e-5)\n",
    "optimizer = Adam(model.parameters(), lr=0.0005, weight_decay=1e-4)\n",
    "\n",
    "# Calculate class weights based on the original class distribution\n",
    "n_samples = len(targets)\n",
    "n_positives = sum(targets)\n",
    "pos_weight = torch.tensor([2.0], device=device)\n",
    "pos_weight = torch.tensor([(n_samples - n_positives) / n_positives], device=device)\n",
    "\n",
    "# Use weighted loss function\n",
    "loss_fn = BCEWithLogitsLoss()\n",
    "loss_fn = BCEWithLogitsLoss(pos_weight=pos_weight)\n"
   ],
   "outputs": [],
   "execution_count": 20
  },
  {
   "cell_type": "code",
   "id": "408a5e5c-7050-4706-b316-17942f475f1f",
   "metadata": {
    "ExecuteTime": {
     "end_time": "2025-05-27T12:10:20.939709Z",
     "start_time": "2025-05-27T12:10:20.829459Z"
    }
   },
   "source": [
    "from sklearn.model_selection import train_test_split\n",
    "\n",
    "# Split: 60% train, 20% val, 20% test\n",
    "train_smiles, temp_smiles, train_targets, temp_targets = train_test_split(\n",
    "    smiles_list, targets, test_size=0.4, random_state=42\n",
    ")\n",
    "\n",
    "val_smiles, test_smiles, val_targets, test_targets = train_test_split(\n",
    "    temp_smiles, temp_targets, test_size=0.5, random_state=42\n",
    ")\n",
    "\n",
    "# Datasets\n",
    "train_set = MoleculeDataset(train_smiles, train_targets, feature_dicts)\n",
    "val_set = MoleculeDataset(val_smiles, val_targets, feature_dicts)\n",
    "test_set = MoleculeDataset(test_smiles, test_targets, feature_dicts)\n",
    "\n",
    "# Loaders\n",
    "train_loader = DataLoader(train_set, batch_size=32, shuffle=True)\n",
    "val_loader = DataLoader(val_set, batch_size=32, shuffle=True)\n",
    "test_loader = DataLoader(test_set, batch_size=32, shuffle=True)\n"
   ],
   "outputs": [
    {
     "name": "stdout",
     "output_type": "stream",
     "text": [
      "Warning: SMILES FS(F)(F)(F)(F)c1ccccc1 not found in feature dictionaries\n"
     ]
    }
   ],
   "execution_count": 24
  },
  {
   "cell_type": "code",
   "id": "164a302e-4f5f-4725-b528-9b2ece383ebe",
   "metadata": {
    "ExecuteTime": {
     "end_time": "2025-05-27T12:10:27.984895Z",
     "start_time": "2025-05-27T12:10:20.967966Z"
    }
   },
   "source": [
    "import torch\n",
    "import torch.nn.functional as F\n",
    "from sklearn.metrics import accuracy_score, f1_score, roc_auc_score\n",
    "import numpy as np\n",
    "import os\n",
    "\n",
    "def evaluate(loader):\n",
    "    model.eval()\n",
    "    total_loss = 0\n",
    "    all_preds = []\n",
    "    all_targets = []\n",
    "    all_probs = []\n",
    "\n",
    "    with torch.no_grad():\n",
    "        for atom, bond, atom_deg, bond_deg, mask, target in loader:\n",
    "            atom, bond, atom_deg, bond_deg, mask, target = [\n",
    "                t.to(device) for t in (atom, bond, atom_deg, bond_deg, mask, target)\n",
    "            ]\n",
    "            _, pred, _ = model(atom, bond, atom_deg, bond_deg, mask)\n",
    "            pred = pred.view(-1)\n",
    "            target = target.view(-1).float()\n",
    "\n",
    "            loss = loss_fn(pred, target)\n",
    "            total_loss += loss.item()\n",
    "\n",
    "            prob = torch.sigmoid(pred).cpu().numpy()\n",
    "            all_probs.extend(prob)\n",
    "            all_preds.extend((prob > 0.5).astype(int))\n",
    "            all_targets.extend(target.cpu().numpy())\n",
    "\n",
    "    acc = accuracy_score(all_targets, all_preds)\n",
    "    f1 = f1_score(all_targets, all_preds, zero_division=0)\n",
    "    try:\n",
    "        auc = roc_auc_score(all_targets, all_probs)\n",
    "    except:\n",
    "        auc = 0.0\n",
    "    return total_loss, acc, f1, auc\n",
    "\n",
    "# Folder to save model\n",
    "os.makedirs(\"../models\", exist_ok=True)\n",
    "best_loss = float(\"inf\")\n",
    "path = f\"../models/model_{model_name}.pt\"\n",
    "\n",
    "for epoch in range(30):\n",
    "    model.train()\n",
    "    train_loss = 0\n",
    "\n",
    "    for atom, bond, atom_deg, bond_deg, mask, target in train_loader:\n",
    "        atom, bond, atom_deg, bond_deg, mask, target = [\n",
    "            t.to(device) for t in (atom, bond, atom_deg, bond_deg, mask, target)\n",
    "        ]\n",
    "        _, pred, _ = model(atom, bond, atom_deg, bond_deg, mask)\n",
    "        pred = pred.view(-1)\n",
    "        target = target.view(-1).float()\n",
    "        loss = loss_fn(pred, target)\n",
    "\n",
    "        optimizer.zero_grad()\n",
    "        loss.backward()\n",
    "        optimizer.step()\n",
    "        train_loss += loss.item()\n",
    "\n",
    "    val_loss, val_acc, val_f1, val_auc = evaluate(val_loader)\n",
    "    train_eval_loss, _, _, _ = evaluate(train_loader)\n",
    "\n",
    "    print(\n",
    "        f\"Epoch {epoch+1} - Train Loss: {train_loss:.4f} - Eval Train Loss: {train_eval_loss:.4f} - Val Loss: {val_loss:.4f} - Acc: {val_acc:.3f} - F1: {val_f1:.3f} - AUC: {val_auc:.3f}\"\n",
    "    )\n",
    "\n",
    "    if val_loss < best_loss:\n",
    "        best_loss = val_loss\n",
    "        torch.save(model.state_dict(), path)\n",
    "        print(f\"✅ Saved best model to {path} (val loss: {best_loss:.4f})\")\n"
   ],
   "outputs": [
    {
     "name": "stdout",
     "output_type": "stream",
     "text": [
      "Epoch 1 - Train Loss: 0.3898 - Eval Train Loss: 0.3692 - Val Loss: 0.4874 - Acc: 0.833 - F1: 0.909 - AUC: 0.400\n",
      "✅ Saved best model to ../models/model_Irritation_Corrosion_Eye_Irritation.pt (val loss: 0.4874)\n",
      "Epoch 2 - Train Loss: 0.3911 - Eval Train Loss: 0.3485 - Val Loss: 0.4990 - Acc: 0.833 - F1: 0.909 - AUC: 0.400\n",
      "Epoch 3 - Train Loss: 0.3753 - Eval Train Loss: 0.3244 - Val Loss: 0.5193 - Acc: 0.833 - F1: 0.909 - AUC: 0.600\n",
      "Epoch 4 - Train Loss: 0.3185 - Eval Train Loss: 0.2952 - Val Loss: 0.5515 - Acc: 0.833 - F1: 0.909 - AUC: 0.600\n",
      "Epoch 5 - Train Loss: 0.3040 - Eval Train Loss: 0.2608 - Val Loss: 0.5980 - Acc: 0.833 - F1: 0.909 - AUC: 0.600\n",
      "Epoch 6 - Train Loss: 0.2835 - Eval Train Loss: 0.2240 - Val Loss: 0.6819 - Acc: 0.833 - F1: 0.909 - AUC: 0.600\n",
      "Epoch 7 - Train Loss: 0.2275 - Eval Train Loss: 0.1861 - Val Loss: 0.8433 - Acc: 0.833 - F1: 0.909 - AUC: 0.600\n",
      "Epoch 8 - Train Loss: 0.1981 - Eval Train Loss: 0.1464 - Val Loss: 1.1576 - Acc: 0.833 - F1: 0.909 - AUC: 0.600\n",
      "Epoch 9 - Train Loss: 0.1474 - Eval Train Loss: 0.1182 - Val Loss: 1.6193 - Acc: 0.833 - F1: 0.909 - AUC: 0.400\n",
      "Epoch 10 - Train Loss: 0.1216 - Eval Train Loss: 0.1004 - Val Loss: 2.1307 - Acc: 0.833 - F1: 0.909 - AUC: 0.200\n",
      "Epoch 11 - Train Loss: 0.1007 - Eval Train Loss: 0.0840 - Val Loss: 2.5941 - Acc: 0.833 - F1: 0.909 - AUC: 0.000\n",
      "Epoch 12 - Train Loss: 0.0869 - Eval Train Loss: 0.0635 - Val Loss: 2.9760 - Acc: 0.833 - F1: 0.909 - AUC: 0.000\n",
      "Epoch 13 - Train Loss: 0.0712 - Eval Train Loss: 0.0396 - Val Loss: 3.2674 - Acc: 0.833 - F1: 0.909 - AUC: 0.100\n",
      "Epoch 14 - Train Loss: 0.0464 - Eval Train Loss: 0.0180 - Val Loss: 3.4759 - Acc: 0.833 - F1: 0.909 - AUC: 0.100\n",
      "Epoch 15 - Train Loss: 0.0206 - Eval Train Loss: 0.0056 - Val Loss: 3.6198 - Acc: 0.833 - F1: 0.909 - AUC: 0.200\n",
      "Epoch 16 - Train Loss: 0.0112 - Eval Train Loss: 0.0014 - Val Loss: 3.7216 - Acc: 0.833 - F1: 0.909 - AUC: 0.200\n",
      "Epoch 17 - Train Loss: 0.0010 - Eval Train Loss: 0.0004 - Val Loss: 3.9196 - Acc: 0.667 - F1: 0.800 - AUC: 0.200\n",
      "Epoch 18 - Train Loss: 0.0002 - Eval Train Loss: 0.0001 - Val Loss: 4.3280 - Acc: 0.667 - F1: 0.800 - AUC: 0.200\n",
      "Epoch 19 - Train Loss: 0.0001 - Eval Train Loss: 0.0000 - Val Loss: 4.6163 - Acc: 0.667 - F1: 0.800 - AUC: 0.200\n",
      "Epoch 20 - Train Loss: 0.0000 - Eval Train Loss: 0.0000 - Val Loss: 4.7704 - Acc: 0.667 - F1: 0.800 - AUC: 0.200\n",
      "Epoch 21 - Train Loss: 0.0000 - Eval Train Loss: 0.0000 - Val Loss: 5.1416 - Acc: 0.500 - F1: 0.667 - AUC: 0.200\n",
      "Epoch 22 - Train Loss: 0.0000 - Eval Train Loss: 0.0000 - Val Loss: 5.6032 - Acc: 0.500 - F1: 0.667 - AUC: 0.100\n",
      "Epoch 23 - Train Loss: 0.0000 - Eval Train Loss: 0.0000 - Val Loss: 5.8883 - Acc: 0.500 - F1: 0.667 - AUC: 0.100\n",
      "Epoch 24 - Train Loss: 0.0000 - Eval Train Loss: 0.0000 - Val Loss: 6.0980 - Acc: 0.500 - F1: 0.667 - AUC: 0.100\n",
      "Epoch 25 - Train Loss: 0.0000 - Eval Train Loss: 0.0000 - Val Loss: 6.2515 - Acc: 0.500 - F1: 0.667 - AUC: 0.100\n",
      "Epoch 26 - Train Loss: 0.0000 - Eval Train Loss: 0.0000 - Val Loss: 6.3650 - Acc: 0.500 - F1: 0.667 - AUC: 0.100\n",
      "Epoch 27 - Train Loss: 0.0302 - Eval Train Loss: 0.0000 - Val Loss: 6.1129 - Acc: 0.667 - F1: 0.800 - AUC: 0.300\n",
      "Epoch 28 - Train Loss: 0.0000 - Eval Train Loss: 0.0000 - Val Loss: 5.1034 - Acc: 0.833 - F1: 0.909 - AUC: 0.300\n",
      "Epoch 29 - Train Loss: 0.0000 - Eval Train Loss: 0.0000 - Val Loss: 5.2790 - Acc: 0.833 - F1: 0.909 - AUC: 0.300\n",
      "Epoch 30 - Train Loss: 0.0000 - Eval Train Loss: 0.0000 - Val Loss: 5.4043 - Acc: 0.833 - F1: 0.909 - AUC: 0.500\n"
     ]
    }
   ],
   "execution_count": 25
  },
  {
   "metadata": {
    "ExecuteTime": {
     "end_time": "2025-05-27T12:10:28.162787Z",
     "start_time": "2025-05-27T12:10:28.018123Z"
    }
   },
   "cell_type": "code",
   "source": [
    "# Load best model\n",
    "model.load_state_dict(torch.load(path))\n",
    "model.to(device)\n",
    "\n",
    "test_loss, test_acc, test_f1, test_auc = evaluate(test_loader)\n",
    "print(f\"🧪 Test Loss: {test_loss:.4f} - Acc: {test_acc:.3f} - F1: {test_f1:.3f} - AUC: {test_auc:.3f}\")\n",
    "\n"
   ],
   "id": "bd75d33d0487ff2c",
   "outputs": [
    {
     "name": "stdout",
     "output_type": "stream",
     "text": [
      "🧪 Test Loss: 2.4264 - Acc: 0.500 - F1: 0.667 - AUC: 0.000\n"
     ]
    }
   ],
   "execution_count": 26
  }
 ],
 "metadata": {
  "kernelspec": {
   "display_name": "pyrosage",
   "language": "python",
   "name": "pyrosage"
  },
  "language_info": {
   "codemirror_mode": {
    "name": "ipython",
    "version": 3
   },
   "file_extension": ".py",
   "mimetype": "text/x-python",
   "name": "python",
   "nbconvert_exporter": "python",
   "pygments_lexer": "ipython3",
   "version": "3.11.12"
  }
 },
 "nbformat": 4,
 "nbformat_minor": 5
}
