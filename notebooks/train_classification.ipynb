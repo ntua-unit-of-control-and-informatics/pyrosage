{
 "cells": [
  {
   "cell_type": "code",
   "id": "7ab3b66f4aa6c8f0",
   "metadata": {
    "ExecuteTime": {
     "end_time": "2025-05-27T12:40:35.478306Z",
     "start_time": "2025-05-27T12:40:35.471622Z"
    }
   },
   "source": [
    "import pandas as pd\n",
    "import torch\n",
    "from torch.nn import BCEWithLogitsLoss\n",
    "from torch.optim import Adam\n",
    "from torch.utils.data import Dataset, DataLoader\n",
    "\n",
    "from AttentiveFP import Fingerprint  # assumed to be your attentive FP model\n",
    "from AttentiveFP import get_smiles_dicts, get_smiles_array, num_atom_features, \\\n",
    "    num_bond_features  # assumed to be your actual featurizer"
   ],
   "outputs": [],
   "execution_count": 44
  },
  {
   "cell_type": "code",
   "id": "06510a14-aa01-4d43-a271-8038c4a35bef",
   "metadata": {
    "ExecuteTime": {
     "end_time": "2025-05-27T12:40:35.602915Z",
     "start_time": "2025-05-27T12:40:35.598889Z"
    }
   },
   "source": [
    "# --- Device ---\n",
    "device = torch.device(\"cuda\" if torch.cuda.is_available() else \"cpu\")\n",
    "model_name = 'Irritation_Corrosion_Eye_Irritation'\n",
    "\n",
    "# --- Dataset ---\n",
    "class MoleculeDataset(Dataset):\n",
    "    def __init__(self, smiles_list, targets, feature_dicts):\n",
    "        self.smiles_list = smiles_list\n",
    "        self.targets = targets\n",
    "        self.feature_dicts = feature_dicts\n",
    "        self.x_atom, self.x_bond, self.x_atom_index, self.x_bond_index, self.x_mask, _ = get_smiles_array(smiles_list, feature_dicts)\n",
    "\n",
    "    def __len__(self):\n",
    "        return len(self.feature_dicts)\n",
    "\n",
    "    def __getitem__(self, idx):\n",
    "        return (\n",
    "            torch.tensor(self.x_atom[idx], dtype=torch.float32),\n",
    "            torch.tensor(self.x_bond[idx], dtype=torch.float32),\n",
    "            torch.tensor(self.x_atom_index[idx], dtype=torch.long),\n",
    "            torch.tensor(self.x_bond_index[idx], dtype=torch.long),\n",
    "            torch.tensor(self.x_mask[idx], dtype=torch.float32),\n",
    "            torch.tensor(self.targets[idx], dtype=torch.float32)\n",
    "        )"
   ],
   "outputs": [],
   "execution_count": 45
  },
  {
   "metadata": {
    "ExecuteTime": {
     "end_time": "2025-05-27T12:40:52.418527Z",
     "start_time": "2025-05-27T12:40:35.754923Z"
    }
   },
   "cell_type": "code",
   "source": [
    "import logging\n",
    "from rdkit import Chem\n",
    "from pathlib import Path\n",
    "\n",
    "# Set up logging\n",
    "logging.basicConfig(level=logging.INFO)\n",
    "logger = logging.getLogger(__name__)\n",
    "\n",
    "# --- Load data ---\n",
    "# --- Load and validate data ---\n",
    "df = pd.read_csv(f\"../data/{model_name}.csv\")\n",
    "data_path = Path(f\"../data/{model_name}.csv\")\n",
    "smiles_list = df[\"smiles\"].tolist()\n",
    "if not data_path.exists():\n",
    "    raise FileNotFoundError(f\"Data file not found: {data_path}\")\n",
    "\n",
    "df = pd.read_csv(data_path)\n",
    "targets = df[\"active\"].tolist()\n",
    "feature_dicts = get_smiles_dicts(smiles_list)\n",
    "logger.info(f\"Loaded dataset with {len(df)} samples\")\n",
    "\n",
    "# Validate SMILES and targets\n",
    "valid_idx = []\n",
    "valid_smiles = []\n",
    "valid_targets = []\n",
    "\n",
    "for idx, (smiles, target) in enumerate(zip(df[\"smiles\"], df[\"active\"])):\n",
    "    mol = Chem.MolFromSmiles(smiles)\n",
    "    if mol is not None and isinstance(target, (int, float)) and target in [0, 1]:\n",
    "        valid_idx.append(idx)\n",
    "        valid_smiles.append(smiles)\n",
    "        valid_targets.append(target)\n",
    "    else:\n",
    "        logger.warning(f\"Invalid entry at index {idx}: SMILES={smiles}, target={target}\")\n",
    "\n",
    "logger.info(f\"Valid samples: {len(valid_smiles)} out of {len(df)}\")\n",
    "\n",
    "# Check class distribution\n",
    "from collections import Counter\n",
    "initial_distribution = Counter(valid_targets)\n",
    "logger.info(f\"Initial class distribution: {initial_distribution}\")\n",
    "\n",
    "# First split: 60% train, 20% val, 20% test\n",
    "# First split: 60% train, 20% val, 20% test with stratification\n",
    "from sklearn.model_selection import train_test_split\n",
    "\n",
    "train_smiles, temp_smiles, train_targets, temp_targets = train_test_split(\n",
    "    valid_smiles, valid_targets, test_size=0.4, random_state=42, stratify=valid_targets\n",
    ")\n",
    "\n",
    "val_smiles, test_smiles, val_targets, test_targets = train_test_split(\n",
    "    temp_smiles, temp_targets, test_size=0.5, random_state=42, stratify=temp_targets\n",
    ")\n",
    "\n",
    "logger.info(f\"Train samples: {len(train_smiles)}\")\n",
    "logger.info(f\"Val samples: {len(val_smiles)}\")\n",
    "logger.info(f\"Test samples: {len(test_smiles)}\")\n",
    "\n",
    "# Apply oversampling only to training data\n",
    "from imblearn.over_sampling import RandomOverSampler\n",
    "from collections import Counter\n",
    "\n",
    "ros = RandomOverSampler()\n",
    "ros = RandomOverSampler(random_state=42)\n",
    "X_res, y_res = ros.fit_resample([[s] for s in train_smiles], train_targets)\n",
    "train_smiles_resampled = [x[0] for x in X_res]\n",
    "\n",
    "print(\"Class distribution in original training set:\", Counter(train_targets))\n",
    "logger.info(\"Class distribution:\")\n",
    "logger.info(f\"Original training set: {Counter(train_targets)}\")\n",
    "print(\"Class distribution after resampling:\", Counter(y_res))\n",
    "logger.info(f\"After resampling: {Counter(y_res)}\")\n",
    "logger.info(f\"Validation set: {Counter(val_targets)}\")\n",
    "logger.info(f\"Test set: {Counter(test_targets)}\")\n",
    "\n",
    "# Flatten X_res to get new smiles\n",
    "# Calculate class weights based on original training data\n",
    "from sklearn.utils.class_weight import compute_class_weight\n",
    "smiles_list_resampled = [x[0] for x in X_res]\n",
    "\n",
    "class_weights = compute_class_weight('balanced', classes=np.array([0, 1]), y=train_targets)\n",
    "class_weights_dict = {0: class_weights[0], 1: class_weights[1]}\n",
    "print(\"Class weights:\", class_weights_dict)\n",
    "logger.info(f\"Class weights: {class_weights_dict}\")\n",
    "\n",
    "print(Counter(y_res))  # See new class balance\n",
    "# Convert to tensor for PyTorch\n",
    "pos_weight = torch.tensor([class_weights_dict[1] / class_weights_dict[0]], device=device)\n",
    "\n",
    "# Rebuild features and dataset\n",
    "# Get feature dictionaries for all sets\n",
    "try:\n",
    "    feature_dicts_resampled = get_smiles_dicts(smiles_list_resampled)\n",
    "    dataset = MoleculeDataset(smiles_list_resampled, y_res, feature_dicts_resampled)\n",
    "    loader = DataLoader(dataset, batch_size=32, shuffle=True)\n",
    "    feature_dicts_val = get_smiles_dicts(val_smiles)\n",
    "    feature_dicts_test = get_smiles_dicts(test_smiles)\n",
    "except Exception as e:\n",
    "    logger.error(f\"Error generating feature dictionaries: {e}\")\n",
    "    raise\n",
    "\n",
    "# Create datasets\n",
    "train_dataset = MoleculeDataset(train_smiles_resampled, y_res, feature_dicts_resampled)\n",
    "val_dataset = MoleculeDataset(val_smiles, val_targets, feature_dicts_val)\n",
    "test_dataset = MoleculeDataset(test_smiles, test_targets, feature_dicts_test)\n",
    "\n",
    "# Create data loaders\n",
    "train_loader = DataLoader(train_dataset, batch_size=32, shuffle=True)\n",
    "val_loader = DataLoader(val_dataset, batch_size=32, shuffle=False)\n",
    "test_loader = DataLoader(test_dataset, batch_size=32, shuffle=False)\n",
    "\n"
   ],
   "id": "91e9163939e3ced4",
   "outputs": [
    {
     "name": "stdout",
     "output_type": "stream",
     "text": [
      "FS(F)(F)(F)(F)c1ccccc1\n"
     ]
    },
    {
     "name": "stderr",
     "output_type": "stream",
     "text": [
      "INFO:__main__:Loaded dataset with 5125 samples\n",
      "INFO:__main__:Valid samples: 5125 out of 5125\n",
      "INFO:__main__:Initial class distribution: Counter({1: 3832, 0: 1293})\n",
      "INFO:__main__:Train samples: 3075\n",
      "INFO:__main__:Val samples: 1025\n",
      "INFO:__main__:Test samples: 1025\n",
      "INFO:__main__:Class distribution:\n",
      "INFO:__main__:Original training set: Counter({1: 2299, 0: 776})\n",
      "INFO:__main__:After resampling: Counter({1: 2299, 0: 2299})\n",
      "INFO:__main__:Validation set: Counter({1: 767, 0: 258})\n",
      "INFO:__main__:Test set: Counter({1: 766, 0: 259})\n",
      "INFO:__main__:Class weights: {0: 1.9813144329896908, 1: 0.6687690300130491}\n"
     ]
    },
    {
     "name": "stdout",
     "output_type": "stream",
     "text": [
      "Class distribution in original training set: Counter({1: 2299, 0: 776})\n",
      "Class distribution after resampling: Counter({1: 2299, 0: 2299})\n",
      "Class weights: {0: 1.9813144329896908, 1: 0.6687690300130491}\n",
      "Counter({1: 2299, 0: 2299})\n",
      "FS(F)(F)(F)(F)c1ccccc1\n",
      "Warning: SMILES FS(F)(F)(F)(F)c1ccccc1 not found in feature dictionaries\n"
     ]
    }
   ],
   "execution_count": 46
  },
  {
   "metadata": {
    "ExecuteTime": {
     "end_time": "2025-05-27T12:40:52.498343Z",
     "start_time": "2025-05-27T12:40:52.489493Z"
    }
   },
   "cell_type": "code",
   "source": [
    "# --- Model ---\n",
    "model = Fingerprint(\n",
    "    radius=5,\n",
    "    T=3,  # Increased T for better message passing\n",
    "    input_feature_dim=num_atom_features(),\n",
    "    input_bond_dim=num_bond_features(),\n",
    "    fingerprint_dim=150,  # Increased dimension for more complex feature learning\n",
    "    output_units_num=1,\n",
    "    p_dropout=0.3  # Increased dropout for better regularization\n",
    ").to(device)\n",
    "\n",
    "# Using a lower learning rate and higher weight decay for better generalization\n",
    "optimizer = Adam(model.parameters(), lr=0.001, weight_decay=1e-5)\n",
    "\n",
    "scheduler = torch.optim.lr_scheduler.ReduceLROnPlateau(optimizer, mode='min', factor=0.1, patience=5)\n",
    "\n",
    "# Calculate class weights based on the original class distribution\n",
    "# Use weighted loss function\n",
    "loss_fn = BCEWithLogitsLoss(pos_weight=pos_weight)\n"
   ],
   "id": "847792f6da4cf50d",
   "outputs": [],
   "execution_count": 47
  },
  {
   "metadata": {
    "ExecuteTime": {
     "end_time": "2025-05-27T12:40:54.445988Z",
     "start_time": "2025-05-27T12:40:52.587019Z"
    }
   },
   "cell_type": "code",
   "source": [
    "import torch\n",
    "import torch.nn.functional as F\n",
    "from sklearn.metrics import accuracy_score, f1_score, roc_auc_score\n",
    "import numpy as np\n",
    "import os\n",
    "\n",
    "def init_early_stopping(patience=5):\n",
    "    best_val_loss = float('inf')\n",
    "    patience_counter = 0\n",
    "    best_model_state = None\n",
    "    return best_val_loss, patience_counter, best_model_state\n",
    "\n",
    "# Add before training loop\n",
    "best_val_loss, patience_counter, best_model_state = init_early_stopping(patience=5)\n",
    "\n",
    "\n",
    "def evaluate(loader):\n",
    "    model.eval()\n",
    "    total_loss = 0\n",
    "    all_preds = []\n",
    "    all_targets = []\n",
    "    all_probs = []\n",
    "\n",
    "    with torch.no_grad():\n",
    "        for atom, bond, atom_deg, bond_deg, mask, target in loader:\n",
    "            atom, bond, atom_deg, bond_deg, mask, target = [\n",
    "                t.to(device) for t in (atom, bond, atom_deg, bond_deg, mask, target)\n",
    "            ]\n",
    "            _, pred, _ = model(atom, bond, atom_deg, bond_deg, mask)\n",
    "            pred = pred.view(-1)\n",
    "            target = target.view(-1).float()\n",
    "\n",
    "            loss = loss_fn(pred, target)\n",
    "            total_loss += loss.item()\n",
    "\n",
    "            prob = torch.sigmoid(pred).cpu().numpy()\n",
    "            all_probs.extend(prob)\n",
    "            all_preds.extend((prob > 0.5).astype(int))\n",
    "            all_targets.extend(target.cpu().numpy())\n",
    "\n",
    "    acc = accuracy_score(all_targets, all_preds)\n",
    "    f1 = f1_score(all_targets, all_preds, zero_division=0)\n",
    "    try:\n",
    "        auc = roc_auc_score(all_targets, all_probs)\n",
    "    except:\n",
    "        auc = 0.0\n",
    "    return total_loss, acc, f1, auc\n",
    "\n",
    "# Folder to save model\n",
    "os.makedirs(\"../models\", exist_ok=True)\n",
    "best_loss = float(\"inf\")\n",
    "path = f\"../models/model_{model_name}.pt\"\n",
    "\n",
    "for epoch in range(30):\n",
    "    model.train()\n",
    "    train_loss = 0\n",
    "\n",
    "    for batch in train_loader:\n",
    "        atom, bond, atom_deg, bond_deg, mask, target = [\n",
    "            t.to(device) for t in batch\n",
    "        ]\n",
    "        optimizer.zero_grad()\n",
    "        _, pred, _ = model(atom, bond, atom_deg, bond_deg, mask)\n",
    "        loss = loss_fn(pred.squeeze(), target)\n",
    "        loss.backward()\n",
    "        torch.nn.utils.clip_grad_norm_(model.parameters(), max_norm=1.0)  # Add gradient clipping\n",
    "        optimizer.step()\n",
    "        train_loss += loss.item()\n",
    "\n",
    "    val_loss, val_acc, val_f1, val_auc = evaluate(val_loader)\n",
    "    scheduler.step(val_loss)  # Update learning rate based on validation loss\n",
    "\n",
    "    print(f\"Epoch {epoch+1} - Train Loss: {train_loss:.4f} - Val Loss: {val_loss:.4f} \"\n",
    "          f\"- Val Acc: {val_acc:.3f} - Val F1: {val_f1:.3f} - Val AUC: {val_auc:.3f} \"\n",
    "          f\"- LR: {optimizer.param_groups[0]['lr']:.6f}\")\n",
    "\n",
    "    # Early stopping check\n",
    "    if val_loss < best_val_loss:\n",
    "        best_val_loss = val_loss\n",
    "        best_model_state = model.state_dict()\n",
    "        patience_counter = 0\n",
    "        torch.save(model.state_dict(), path)\n",
    "        print(f\"✅ Saved best model (val loss: {best_val_loss:.4f})\")\n",
    "    else:\n",
    "        patience_counter += 1\n",
    "        if patience_counter >= 5:  # Early stopping patience\n",
    "            print(\"Early stopping triggered!\")\n",
    "            break\n",
    "\n"
   ],
   "id": "68f74dda1404a309",
   "outputs": [
    {
     "name": "stdout",
     "output_type": "stream",
     "text": [
      "Epoch 1 - Train Loss: 0.2997 - Val Loss: 0.3534 - Val Acc: 0.333 - Val F1: 0.000 - Val AUC: 1.000 - LR: 0.001000\n",
      "✅ Saved best model (val loss: 0.3534)\n",
      "Epoch 2 - Train Loss: 0.2739 - Val Loss: 0.3252 - Val Acc: 0.333 - Val F1: 0.000 - Val AUC: 1.000 - LR: 0.001000\n",
      "✅ Saved best model (val loss: 0.3252)\n",
      "Epoch 3 - Train Loss: 0.2524 - Val Loss: 0.2938 - Val Acc: 0.333 - Val F1: 0.000 - Val AUC: 1.000 - LR: 0.001000\n",
      "✅ Saved best model (val loss: 0.2938)\n",
      "Epoch 4 - Train Loss: 0.2373 - Val Loss: 0.2735 - Val Acc: 0.500 - Val F1: 0.400 - Val AUC: 1.000 - LR: 0.001000\n",
      "✅ Saved best model (val loss: 0.2735)\n",
      "Epoch 5 - Train Loss: 0.2278 - Val Loss: 0.2631 - Val Acc: 0.833 - Val F1: 0.857 - Val AUC: 1.000 - LR: 0.001000\n",
      "✅ Saved best model (val loss: 0.2631)\n",
      "Epoch 6 - Train Loss: 0.2204 - Val Loss: 0.2601 - Val Acc: 1.000 - Val F1: 1.000 - Val AUC: 1.000 - LR: 0.001000\n",
      "✅ Saved best model (val loss: 0.2601)\n",
      "Epoch 7 - Train Loss: 0.2007 - Val Loss: 0.2576 - Val Acc: 1.000 - Val F1: 1.000 - Val AUC: 1.000 - LR: 0.001000\n",
      "✅ Saved best model (val loss: 0.2576)\n",
      "Epoch 8 - Train Loss: 0.1689 - Val Loss: 0.2664 - Val Acc: 0.833 - Val F1: 0.889 - Val AUC: 1.000 - LR: 0.001000\n",
      "Epoch 9 - Train Loss: 0.1510 - Val Loss: 0.2821 - Val Acc: 0.833 - Val F1: 0.889 - Val AUC: 1.000 - LR: 0.001000\n",
      "Epoch 10 - Train Loss: 0.1107 - Val Loss: 0.3010 - Val Acc: 0.833 - Val F1: 0.889 - Val AUC: 1.000 - LR: 0.001000\n",
      "Epoch 11 - Train Loss: 0.0920 - Val Loss: 0.3443 - Val Acc: 0.833 - Val F1: 0.889 - Val AUC: 1.000 - LR: 0.001000\n",
      "Epoch 12 - Train Loss: 0.0589 - Val Loss: 0.4160 - Val Acc: 0.833 - Val F1: 0.889 - Val AUC: 0.875 - LR: 0.001000\n",
      "Early stopping triggered!\n"
     ]
    }
   ],
   "execution_count": 48
  },
  {
   "metadata": {
    "ExecuteTime": {
     "end_time": "2025-05-27T12:40:54.570256Z",
     "start_time": "2025-05-27T12:40:54.525494Z"
    }
   },
   "cell_type": "code",
   "source": [
    "# Load best model\n",
    "model.load_state_dict(torch.load(path))\n",
    "model.to(device)\n",
    "\n",
    "test_loss, test_acc, test_f1, test_auc = evaluate(test_loader)\n",
    "print(f\"🧪 Test Loss: {test_loss:.4f} - Acc: {test_acc:.3f} - F1: {test_f1:.3f} - AUC: {test_auc:.3f}\")"
   ],
   "id": "a657a1def9bbab1f",
   "outputs": [
    {
     "name": "stdout",
     "output_type": "stream",
     "text": [
      "🧪 Test Loss: 0.1722 - Acc: 1.000 - F1: 1.000 - AUC: 0.000\n"
     ]
    }
   ],
   "execution_count": 49
  },
  {
   "metadata": {
    "ExecuteTime": {
     "end_time": "2025-05-27T12:40:55.026023Z",
     "start_time": "2025-05-27T12:40:54.740325Z"
    }
   },
   "cell_type": "code",
   "source": [
    "import matplotlib.pyplot as plt\n",
    "%matplotlib inline\n",
    "\n",
    "\n",
    "from sklearn.metrics import precision_recall_curve, confusion_matrix\n",
    "import seaborn as sns\n",
    "import matplotlib.pyplot as plt\n",
    "\n",
    "def plot_training_metrics(model, test_loader):\n",
    "    model.eval()\n",
    "    all_preds = []\n",
    "    all_targets = []\n",
    "\n",
    "    with torch.no_grad():\n",
    "        for batch in test_loader:\n",
    "            atom, bond, atom_deg, bond_deg, mask, target = [\n",
    "                t.to(device) for t in batch\n",
    "            ]\n",
    "            _, pred, _ = model(atom, bond, atom_deg, bond_deg, mask)\n",
    "            prob = torch.sigmoid(pred).cpu().numpy()\n",
    "            all_preds.extend(prob)\n",
    "            all_targets.extend(target.cpu().numpy())\n",
    "\n",
    "    # Precision-Recall curve\n",
    "    precision, recall, _ = precision_recall_curve(all_targets, all_preds)\n",
    "    plt.figure(figsize=(10, 5))\n",
    "    plt.subplot(1, 2, 1)\n",
    "    plt.plot(recall, precision)\n",
    "    plt.xlabel('Recall')\n",
    "    plt.ylabel('Precision')\n",
    "    plt.title('Precision-Recall Curve')\n",
    "\n",
    "    # Confusion Matrix\n",
    "    cm = confusion_matrix(all_targets, (np.array(all_preds) > 0.5).astype(int))\n",
    "    plt.subplot(1, 2, 2)\n",
    "    sns.heatmap(cm, annot=True, fmt='d')\n",
    "    plt.title('Confusion Matrix')\n",
    "    plt.show()\n",
    "\n",
    "# Call after training\n",
    "plot_training_metrics(model, test_loader)"
   ],
   "id": "45d0cc1a23d0448b",
   "outputs": [
    {
     "name": "stderr",
     "output_type": "stream",
     "text": [
      "/home/alex-arvanitidis-ntua/Projects/ntua/pyrosage/.venv/lib/python3.10/site-packages/sklearn/metrics/_classification.py:409: UserWarning: A single label was found in 'y_true' and 'y_pred'. For the confusion matrix to have the correct shape, use the 'labels' parameter to pass all known labels.\n",
      "  warnings.warn(\n"
     ]
    },
    {
     "data": {
      "text/plain": [
       "<Figure size 1000x500 with 3 Axes>"
      ],
      "image/png": "[encoded data removed]"
     },
     "metadata": {},
     "output_type": "display_data"
    }
   ],
   "execution_count": 50
  }
 ],
 "metadata": {
  "kernelspec": {
   "display_name": "pyrosage",
   "language": "python",
   "name": "pyrosage"
  },
  "language_info": {
   "codemirror_mode": {
    "name": "ipython",
    "version": 3
   },
   "file_extension": ".py",
   "mimetype": "text/x-python",
   "name": "python",
   "nbconvert_exporter": "python",
   "pygments_lexer": "ipython3",
   "version": "3.11.12"
  }
 },
 "nbformat": 4,
 "nbformat_minor": 5
}
